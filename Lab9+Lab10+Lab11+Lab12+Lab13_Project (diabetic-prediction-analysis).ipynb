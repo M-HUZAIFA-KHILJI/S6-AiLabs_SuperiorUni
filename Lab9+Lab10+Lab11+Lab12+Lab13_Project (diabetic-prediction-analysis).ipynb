{
 "cells": [
  {
   "cell_type": "markdown",
   "id": "7c17159a",
   "metadata": {
    "papermill": {
     "duration": 0.010394,
     "end_time": "2025-04-25T01:12:38.132829",
     "exception": false,
     "start_time": "2025-04-25T01:12:38.122435",
     "status": "completed"
    },
    "tags": []
   },
   "source": [
    "\n",
    "# Healthcare & Research Applications: Predicting Diabetes Risk (Global 2025 & Pakistan ranks 3rd globally)\n",
    "\n",
    "**Dataset Overview:** The Diabetes Prediction Dataset encapsulates a wealth of medical and demographic insights gleaned from patient records, coupled with their diabetes status categorized as either positive or negative. This rich reservoir of information encompasses crucial attributes including age, gender, body mass index (BMI), hypertension, heart disease, smoking history, HbA1c level, and blood glucose level.\n",
    "\n",
    "Global diabetes affects 537 million (projected to 783M by 2045). **Pakistan ranks 3rd globally with 33 million cases** and a high prevalence (30.8%), facing significant undiagnosed rates and younger mortality.\n",
    "\n",
    "\n",
    "# **Project Overview (Research Context):**\n",
    "\n",
    "Diabetes is a significant global health concern, with prevalence steadily increasing worldwide. *By 2025, projections indicate* a substantial number of adults living with the condition globally. Research highlights that low- and middle-income countries bear a significant burden. Pakistan, in particular, is reported to have a high prevalence of diabetes. Comparisons between global trends and the specific situation in Pakistan are crucial for understanding the local impact and developing targeted interventions. Studies emphasize the role of lifestyle factors and the increasing rates of obesity in driving the rise of type 2 diabetes. Understanding the global context up to 2025 provides a vital backdrop for analyzing and predicting diabetes risk and related parameters within the Pakistani population.\n",
    "\n",
    "The primary deliverables will be: a rigorously evaluated classification model for predicting a patient's diabetic status (\"yes: diabetic\" or \"no: diabetic\"), and a user-friendly web interface built with Flask to interact with these models.\n",
    "\n",
    "\n",
    "\n"
   ]
  },
  {
   "cell_type": "markdown",
   "id": "f9e5c3ee",
   "metadata": {
    "papermill": {
     "duration": 0.009108,
     "end_time": "2025-04-25T01:12:38.151378",
     "exception": false,
     "start_time": "2025-04-25T01:12:38.142270",
     "status": "completed"
    },
    "tags": []
   },
   "source": [
    "# About Me\n",
    "\n",
    "Muhammad Huzaifa Khilji - Data Scientist / Researcher\n",
    "\n",
    "One of my recent projects involved building a diabetes prediction model. You can explore the notebook and its findings here: https://www.kaggle.com/code/huzaifakhilji/diabetic-prediction-analysis/edit/run/235305261.\n",
    "\n",
    "I am also interested in Web Devlopment Using \n",
    "* Django\n",
    "* Flask\n",
    "\n",
    "\n",
    "Connect with me on https://www.linkedin.com/in/muhammad-huzaifa-khilji-955320159/"
   ]
  },
  {
   "cell_type": "markdown",
   "id": "9928d7f4",
   "metadata": {
    "papermill": {
     "duration": 0.008766,
     "end_time": "2025-04-25T01:12:38.169311",
     "exception": false,
     "start_time": "2025-04-25T01:12:38.160545",
     "status": "completed"
    },
    "tags": []
   },
   "source": [
    "# Libraraies"
   ]
  },
  {
   "cell_type": "code",
   "execution_count": 1,
   "id": "096cdebd",
   "metadata": {
    "execution": {
     "iopub.execute_input": "2025-04-25T01:12:38.188874Z",
     "iopub.status.busy": "2025-04-25T01:12:38.188491Z",
     "iopub.status.idle": "2025-04-25T01:12:42.744773Z",
     "shell.execute_reply": "2025-04-25T01:12:42.744023Z"
    },
    "papermill": {
     "duration": 4.568221,
     "end_time": "2025-04-25T01:12:42.746496",
     "exception": false,
     "start_time": "2025-04-25T01:12:38.178275",
     "status": "completed"
    },
    "tags": []
   },
   "outputs": [],
   "source": [
    "#import libraries\n",
    "import pandas as pd\n",
    "import numpy as np\n",
    "import matplotlib.pyplot as plt\n",
    "import seaborn as sns\n",
    "from sklearn.preprocessing import StandardScaler\n",
    "from sklearn.model_selection import train_test_split\n",
    "from sklearn.naive_bayes import GaussianNB\n",
    "from sklearn.metrics import accuracy_score, classification_report, confusion_matrix\n",
    "from sklearn.decomposition import PCA\n",
    "import random\n"
   ]
  },
  {
   "cell_type": "markdown",
   "id": "1f97f18a",
   "metadata": {
    "papermill": {
     "duration": 0.009091,
     "end_time": "2025-04-25T01:12:42.765111",
     "exception": false,
     "start_time": "2025-04-25T01:12:42.756020",
     "status": "completed"
    },
    "tags": []
   },
   "source": [
    "# Read/Understand Dataset"
   ]
  },
  {
   "cell_type": "code",
   "execution_count": 2,
   "id": "02145e4b",
   "metadata": {
    "execution": {
     "iopub.execute_input": "2025-04-25T01:12:42.784127Z",
     "iopub.status.busy": "2025-04-25T01:12:42.783695Z",
     "iopub.status.idle": "2025-04-25T01:12:42.967520Z",
     "shell.execute_reply": "2025-04-25T01:12:42.966477Z"
    },
    "papermill": {
     "duration": 0.195698,
     "end_time": "2025-04-25T01:12:42.969545",
     "exception": false,
     "start_time": "2025-04-25T01:12:42.773847",
     "status": "completed"
    },
    "tags": []
   },
   "outputs": [],
   "source": [
    "df= pd.read_csv(\"/kaggle/input/diabetes-prediction-predictive-modeling/diabetes_prediction_dataset.csv\")"
   ]
  },
  {
   "cell_type": "markdown",
   "id": "4ac077bb",
   "metadata": {
    "papermill": {
     "duration": 0.008536,
     "end_time": "2025-04-25T01:12:42.987232",
     "exception": false,
     "start_time": "2025-04-25T01:12:42.978696",
     "status": "completed"
    },
    "tags": []
   },
   "source": [
    "**Statistics about \"Dataset\"**"
   ]
  },
  {
   "cell_type": "code",
   "execution_count": 3,
   "id": "c277776e",
   "metadata": {
    "execution": {
     "iopub.execute_input": "2025-04-25T01:12:43.006556Z",
     "iopub.status.busy": "2025-04-25T01:12:43.005833Z",
     "iopub.status.idle": "2025-04-25T01:12:43.076790Z",
     "shell.execute_reply": "2025-04-25T01:12:43.075800Z"
    },
    "papermill": {
     "duration": 0.082409,
     "end_time": "2025-04-25T01:12:43.078450",
     "exception": false,
     "start_time": "2025-04-25T01:12:42.996041",
     "status": "completed"
    },
    "tags": []
   },
   "outputs": [
    {
     "data": {
      "text/html": [
       "<div>\n",
       "<style scoped>\n",
       "    .dataframe tbody tr th:only-of-type {\n",
       "        vertical-align: middle;\n",
       "    }\n",
       "\n",
       "    .dataframe tbody tr th {\n",
       "        vertical-align: top;\n",
       "    }\n",
       "\n",
       "    .dataframe thead th {\n",
       "        text-align: right;\n",
       "    }\n",
       "</style>\n",
       "<table border=\"1\" class=\"dataframe\">\n",
       "  <thead>\n",
       "    <tr style=\"text-align: right;\">\n",
       "      <th></th>\n",
       "      <th>age</th>\n",
       "      <th>hypertension</th>\n",
       "      <th>heart_disease</th>\n",
       "      <th>bmi</th>\n",
       "      <th>HbA1c_level</th>\n",
       "      <th>blood_glucose_level</th>\n",
       "      <th>diabetes</th>\n",
       "    </tr>\n",
       "  </thead>\n",
       "  <tbody>\n",
       "    <tr>\n",
       "      <th>count</th>\n",
       "      <td>100000.000000</td>\n",
       "      <td>100000.00000</td>\n",
       "      <td>100000.000000</td>\n",
       "      <td>100000.000000</td>\n",
       "      <td>100000.000000</td>\n",
       "      <td>100000.000000</td>\n",
       "      <td>100000.000000</td>\n",
       "    </tr>\n",
       "    <tr>\n",
       "      <th>mean</th>\n",
       "      <td>41.885856</td>\n",
       "      <td>0.07485</td>\n",
       "      <td>0.039420</td>\n",
       "      <td>27.320767</td>\n",
       "      <td>5.527507</td>\n",
       "      <td>138.058060</td>\n",
       "      <td>0.085000</td>\n",
       "    </tr>\n",
       "    <tr>\n",
       "      <th>std</th>\n",
       "      <td>22.516840</td>\n",
       "      <td>0.26315</td>\n",
       "      <td>0.194593</td>\n",
       "      <td>6.636783</td>\n",
       "      <td>1.070672</td>\n",
       "      <td>40.708136</td>\n",
       "      <td>0.278883</td>\n",
       "    </tr>\n",
       "    <tr>\n",
       "      <th>min</th>\n",
       "      <td>0.080000</td>\n",
       "      <td>0.00000</td>\n",
       "      <td>0.000000</td>\n",
       "      <td>10.010000</td>\n",
       "      <td>3.500000</td>\n",
       "      <td>80.000000</td>\n",
       "      <td>0.000000</td>\n",
       "    </tr>\n",
       "    <tr>\n",
       "      <th>25%</th>\n",
       "      <td>24.000000</td>\n",
       "      <td>0.00000</td>\n",
       "      <td>0.000000</td>\n",
       "      <td>23.630000</td>\n",
       "      <td>4.800000</td>\n",
       "      <td>100.000000</td>\n",
       "      <td>0.000000</td>\n",
       "    </tr>\n",
       "    <tr>\n",
       "      <th>50%</th>\n",
       "      <td>43.000000</td>\n",
       "      <td>0.00000</td>\n",
       "      <td>0.000000</td>\n",
       "      <td>27.320000</td>\n",
       "      <td>5.800000</td>\n",
       "      <td>140.000000</td>\n",
       "      <td>0.000000</td>\n",
       "    </tr>\n",
       "    <tr>\n",
       "      <th>75%</th>\n",
       "      <td>60.000000</td>\n",
       "      <td>0.00000</td>\n",
       "      <td>0.000000</td>\n",
       "      <td>29.580000</td>\n",
       "      <td>6.200000</td>\n",
       "      <td>159.000000</td>\n",
       "      <td>0.000000</td>\n",
       "    </tr>\n",
       "    <tr>\n",
       "      <th>max</th>\n",
       "      <td>80.000000</td>\n",
       "      <td>1.00000</td>\n",
       "      <td>1.000000</td>\n",
       "      <td>95.690000</td>\n",
       "      <td>9.000000</td>\n",
       "      <td>300.000000</td>\n",
       "      <td>1.000000</td>\n",
       "    </tr>\n",
       "  </tbody>\n",
       "</table>\n",
       "</div>"
      ],
      "text/plain": [
       "                 age  hypertension  heart_disease            bmi  \\\n",
       "count  100000.000000  100000.00000  100000.000000  100000.000000   \n",
       "mean       41.885856       0.07485       0.039420      27.320767   \n",
       "std        22.516840       0.26315       0.194593       6.636783   \n",
       "min         0.080000       0.00000       0.000000      10.010000   \n",
       "25%        24.000000       0.00000       0.000000      23.630000   \n",
       "50%        43.000000       0.00000       0.000000      27.320000   \n",
       "75%        60.000000       0.00000       0.000000      29.580000   \n",
       "max        80.000000       1.00000       1.000000      95.690000   \n",
       "\n",
       "         HbA1c_level  blood_glucose_level       diabetes  \n",
       "count  100000.000000        100000.000000  100000.000000  \n",
       "mean        5.527507           138.058060       0.085000  \n",
       "std         1.070672            40.708136       0.278883  \n",
       "min         3.500000            80.000000       0.000000  \n",
       "25%         4.800000           100.000000       0.000000  \n",
       "50%         5.800000           140.000000       0.000000  \n",
       "75%         6.200000           159.000000       0.000000  \n",
       "max         9.000000           300.000000       1.000000  "
      ]
     },
     "execution_count": 3,
     "metadata": {},
     "output_type": "execute_result"
    }
   ],
   "source": [
    "df.describe()"
   ]
  },
  {
   "cell_type": "markdown",
   "id": "517e5cb1",
   "metadata": {
    "papermill": {
     "duration": 0.008876,
     "end_time": "2025-04-25T01:12:43.097024",
     "exception": false,
     "start_time": "2025-04-25T01:12:43.088148",
     "status": "completed"
    },
    "tags": []
   },
   "source": [
    "**Data columns and Dtypes**"
   ]
  },
  {
   "cell_type": "code",
   "execution_count": 4,
   "id": "774e2d0b",
   "metadata": {
    "execution": {
     "iopub.execute_input": "2025-04-25T01:12:43.117387Z",
     "iopub.status.busy": "2025-04-25T01:12:43.117056Z",
     "iopub.status.idle": "2025-04-25T01:12:43.151534Z",
     "shell.execute_reply": "2025-04-25T01:12:43.150381Z"
    },
    "papermill": {
     "duration": 0.046926,
     "end_time": "2025-04-25T01:12:43.153222",
     "exception": false,
     "start_time": "2025-04-25T01:12:43.106296",
     "status": "completed"
    },
    "tags": []
   },
   "outputs": [
    {
     "name": "stdout",
     "output_type": "stream",
     "text": [
      "<class 'pandas.core.frame.DataFrame'>\n",
      "RangeIndex: 100000 entries, 0 to 99999\n",
      "Data columns (total 9 columns):\n",
      " #   Column               Non-Null Count   Dtype  \n",
      "---  ------               --------------   -----  \n",
      " 0   gender               100000 non-null  object \n",
      " 1   age                  100000 non-null  float64\n",
      " 2   hypertension         100000 non-null  int64  \n",
      " 3   heart_disease        100000 non-null  int64  \n",
      " 4   smoking_history      100000 non-null  object \n",
      " 5   bmi                  100000 non-null  float64\n",
      " 6   HbA1c_level          100000 non-null  float64\n",
      " 7   blood_glucose_level  100000 non-null  int64  \n",
      " 8   diabetes             100000 non-null  int64  \n",
      "dtypes: float64(3), int64(4), object(2)\n",
      "memory usage: 6.9+ MB\n"
     ]
    }
   ],
   "source": [
    "df.info()"
   ]
  },
  {
   "cell_type": "markdown",
   "id": "b6c0ae45",
   "metadata": {
    "papermill": {
     "duration": 0.009237,
     "end_time": "2025-04-25T01:12:43.172100",
     "exception": false,
     "start_time": "2025-04-25T01:12:43.162863",
     "status": "completed"
    },
    "tags": []
   },
   "source": [
    "* Missing Values inside the dataset*"
   ]
  },
  {
   "cell_type": "code",
   "execution_count": 5,
   "id": "4cd6c490",
   "metadata": {
    "execution": {
     "iopub.execute_input": "2025-04-25T01:12:43.192535Z",
     "iopub.status.busy": "2025-04-25T01:12:43.192210Z",
     "iopub.status.idle": "2025-04-25T01:12:43.211272Z",
     "shell.execute_reply": "2025-04-25T01:12:43.210431Z"
    },
    "papermill": {
     "duration": 0.031506,
     "end_time": "2025-04-25T01:12:43.212888",
     "exception": false,
     "start_time": "2025-04-25T01:12:43.181382",
     "status": "completed"
    },
    "tags": []
   },
   "outputs": [
    {
     "data": {
      "text/plain": [
       "gender                 0\n",
       "age                    0\n",
       "hypertension           0\n",
       "heart_disease          0\n",
       "smoking_history        0\n",
       "bmi                    0\n",
       "HbA1c_level            0\n",
       "blood_glucose_level    0\n",
       "diabetes               0\n",
       "dtype: int64"
      ]
     },
     "execution_count": 5,
     "metadata": {},
     "output_type": "execute_result"
    }
   ],
   "source": [
    "df.isnull().sum()"
   ]
  },
  {
   "cell_type": "markdown",
   "id": "3119320c",
   "metadata": {
    "papermill": {
     "duration": 0.009197,
     "end_time": "2025-04-25T01:12:43.231512",
     "exception": false,
     "start_time": "2025-04-25T01:12:43.222315",
     "status": "completed"
    },
    "tags": []
   },
   "source": [
    "* Verifying Data Redundancy"
   ]
  },
  {
   "cell_type": "code",
   "execution_count": 6,
   "id": "51ca8387",
   "metadata": {
    "execution": {
     "iopub.execute_input": "2025-04-25T01:12:43.251514Z",
     "iopub.status.busy": "2025-04-25T01:12:43.251201Z",
     "iopub.status.idle": "2025-04-25T01:12:43.282570Z",
     "shell.execute_reply": "2025-04-25T01:12:43.281696Z"
    },
    "papermill": {
     "duration": 0.043155,
     "end_time": "2025-04-25T01:12:43.283989",
     "exception": false,
     "start_time": "2025-04-25T01:12:43.240834",
     "status": "completed"
    },
    "tags": []
   },
   "outputs": [
    {
     "name": "stdout",
     "output_type": "stream",
     "text": [
      "Duplicated Values:\n"
     ]
    },
    {
     "data": {
      "text/plain": [
       "3854"
      ]
     },
     "execution_count": 6,
     "metadata": {},
     "output_type": "execute_result"
    }
   ],
   "source": [
    "print(\"Duplicated Values:\")\n",
    "df.duplicated().sum()"
   ]
  },
  {
   "cell_type": "markdown",
   "id": "d047d59e",
   "metadata": {
    "papermill": {
     "duration": 0.009173,
     "end_time": "2025-04-25T01:12:43.302710",
     "exception": false,
     "start_time": "2025-04-25T01:12:43.293537",
     "status": "completed"
    },
    "tags": []
   },
   "source": [
    "* Now drop duplications of data, make it clean"
   ]
  },
  {
   "cell_type": "code",
   "execution_count": 7,
   "id": "dbaabed8",
   "metadata": {
    "execution": {
     "iopub.execute_input": "2025-04-25T01:12:43.322819Z",
     "iopub.status.busy": "2025-04-25T01:12:43.322528Z",
     "iopub.status.idle": "2025-04-25T01:12:43.393671Z",
     "shell.execute_reply": "2025-04-25T01:12:43.392751Z"
    },
    "papermill": {
     "duration": 0.082944,
     "end_time": "2025-04-25T01:12:43.395111",
     "exception": false,
     "start_time": "2025-04-25T01:12:43.312167",
     "status": "completed"
    },
    "tags": []
   },
   "outputs": [
    {
     "name": "stdout",
     "output_type": "stream",
     "text": [
      "_______Duplicate Values: Removed_______\n",
      "0\n"
     ]
    }
   ],
   "source": [
    "df = df.drop_duplicates()\n",
    "\n",
    "print(\"_______Duplicate Values: Removed_______\")\n",
    "\n",
    "\n",
    "# check again Duplication exists or not\n",
    "\n",
    "print(df.duplicated().sum())\n",
    "\n"
   ]
  },
  {
   "cell_type": "code",
   "execution_count": 8,
   "id": "5d0ba1c1",
   "metadata": {
    "execution": {
     "iopub.execute_input": "2025-04-25T01:12:43.415473Z",
     "iopub.status.busy": "2025-04-25T01:12:43.415180Z",
     "iopub.status.idle": "2025-04-25T01:12:43.420644Z",
     "shell.execute_reply": "2025-04-25T01:12:43.419972Z"
    },
    "papermill": {
     "duration": 0.017271,
     "end_time": "2025-04-25T01:12:43.421989",
     "exception": false,
     "start_time": "2025-04-25T01:12:43.404718",
     "status": "completed"
    },
    "tags": []
   },
   "outputs": [
    {
     "data": {
      "text/plain": [
       "(96146, 9)"
      ]
     },
     "execution_count": 8,
     "metadata": {},
     "output_type": "execute_result"
    }
   ],
   "source": [
    "df.shape"
   ]
  },
  {
   "cell_type": "code",
   "execution_count": 9,
   "id": "178ac2fd",
   "metadata": {
    "execution": {
     "iopub.execute_input": "2025-04-25T01:12:43.515709Z",
     "iopub.status.busy": "2025-04-25T01:12:43.515382Z",
     "iopub.status.idle": "2025-04-25T01:12:43.521772Z",
     "shell.execute_reply": "2025-04-25T01:12:43.520779Z"
    },
    "papermill": {
     "duration": 0.018889,
     "end_time": "2025-04-25T01:12:43.523348",
     "exception": false,
     "start_time": "2025-04-25T01:12:43.504459",
     "status": "completed"
    },
    "tags": []
   },
   "outputs": [
    {
     "data": {
      "text/plain": [
       "Index(['gender', 'age', 'hypertension', 'heart_disease', 'smoking_history',\n",
       "       'bmi', 'HbA1c_level', 'blood_glucose_level', 'diabetes'],\n",
       "      dtype='object')"
      ]
     },
     "execution_count": 9,
     "metadata": {},
     "output_type": "execute_result"
    }
   ],
   "source": [
    "df.columns"
   ]
  },
  {
   "cell_type": "markdown",
   "id": "178eb118",
   "metadata": {
    "papermill": {
     "duration": 0.009663,
     "end_time": "2025-04-25T01:12:43.543033",
     "exception": false,
     "start_time": "2025-04-25T01:12:43.533370",
     "status": "completed"
    },
    "tags": []
   },
   "source": [
    "# Data Visualization || EDA  || PCA"
   ]
  },
  {
   "cell_type": "code",
   "execution_count": 10,
   "id": "47bd0dbb",
   "metadata": {
    "execution": {
     "iopub.execute_input": "2025-04-25T01:12:43.564946Z",
     "iopub.status.busy": "2025-04-25T01:12:43.564640Z",
     "iopub.status.idle": "2025-04-25T01:12:43.571856Z",
     "shell.execute_reply": "2025-04-25T01:12:43.571014Z"
    },
    "papermill": {
     "duration": 0.019567,
     "end_time": "2025-04-25T01:12:43.573246",
     "exception": false,
     "start_time": "2025-04-25T01:12:43.553679",
     "status": "completed"
    },
    "tags": []
   },
   "outputs": [
    {
     "name": "stdout",
     "output_type": "stream",
     "text": [
      "--------------------------------------\n",
      "\n",
      "Length of the dataset/total columns are:  9  and columns are listed below:\n",
      "\n",
      "\n",
      "-----------Columns-------------------\n"
     ]
    },
    {
     "data": {
      "text/plain": [
       "Index(['gender', 'age', 'hypertension', 'heart_disease', 'smoking_history',\n",
       "       'bmi', 'HbA1c_level', 'blood_glucose_level', 'diabetes'],\n",
       "      dtype='object')"
      ]
     },
     "execution_count": 10,
     "metadata": {},
     "output_type": "execute_result"
    }
   ],
   "source": [
    "\n",
    "print(\"--------------------------------------\")\n",
    "print(\"\")\n",
    "print(\"Length of the dataset/total columns are: \",len(df.columns), \" and\", \"columns are listed below:\")\n",
    "print(\"\")\n",
    "print(\"\")\n",
    "print(\"-----------Columns-------------------\")\n",
    "#Columns Are:\n",
    "df.columns\n"
   ]
  },
  {
   "cell_type": "code",
   "execution_count": 11,
   "id": "f973c8e3",
   "metadata": {
    "execution": {
     "iopub.execute_input": "2025-04-25T01:12:43.594885Z",
     "iopub.status.busy": "2025-04-25T01:12:43.594592Z",
     "iopub.status.idle": "2025-04-25T01:12:43.630667Z",
     "shell.execute_reply": "2025-04-25T01:12:43.629457Z"
    },
    "papermill": {
     "duration": 0.048524,
     "end_time": "2025-04-25T01:12:43.632221",
     "exception": false,
     "start_time": "2025-04-25T01:12:43.583697",
     "status": "completed"
    },
    "tags": []
   },
   "outputs": [
    {
     "name": "stdout",
     "output_type": "stream",
     "text": [
      "diabetes      0     1\n",
      "gender               \n",
      "Female    51714  4447\n",
      "Male      35932  4035\n",
      "Other        18     0\n"
     ]
    }
   ],
   "source": [
    "grouped_counts = df.groupby('gender')['diabetes'].value_counts().unstack(fill_value=0)\n",
    "print(grouped_counts)\n"
   ]
  },
  {
   "cell_type": "code",
   "execution_count": 12,
   "id": "83a55185",
   "metadata": {
    "execution": {
     "iopub.execute_input": "2025-04-25T01:12:43.654277Z",
     "iopub.status.busy": "2025-04-25T01:12:43.653486Z",
     "iopub.status.idle": "2025-04-25T01:12:44.004930Z",
     "shell.execute_reply": "2025-04-25T01:12:44.003920Z"
    },
    "papermill": {
     "duration": 0.364213,
     "end_time": "2025-04-25T01:12:44.006589",
     "exception": false,
     "start_time": "2025-04-25T01:12:43.642376",
     "status": "completed"
    },
    "tags": []
   },
   "outputs": [
    {
     "data": {
      "image/png": "[encoded data removed]",
      "text/plain": [
       "<Figure size 800x600 with 1 Axes>"
      ]
     },
     "metadata": {},
     "output_type": "display_data"
    }
   ],
   "source": [
    "import matplotlib.pyplot as plt\n",
    "import seaborn as sns\n",
    "import pandas as pd\n",
    "\n",
    "# Assuming you have a DataFrame called 'df' loaded with your dataset\n",
    "# If not, replace this with your data loading method\n",
    "# Example of loading a CSV file:\n",
    "# df = pd.read_csv('your_diabetes_dataset.csv')\n",
    "\n",
    "# Ensure df is a pandas DataFrame (redundant if it already is)\n",
    "df = pd.DataFrame(df)\n",
    "\n",
    "# 1. Using seaborn.countplot() - Showing Counts\n",
    "plt.figure(figsize=(8, 6))\n",
    "sns.countplot(data=df, x='gender', hue='diabetes')\n",
    "plt.title('Diabetes Distribution by Gender (Count)')\n",
    "plt.xlabel('Gender')\n",
    "plt.ylabel('Count')\n",
    "plt.legend(title='Diabetes', labels=sorted(df['diabetes'].unique()))  # Use actual unique diabetes values\n",
    "plt.tight_layout()\n",
    "plt.show()\n"
   ]
  },
  {
   "cell_type": "code",
   "execution_count": 13,
   "id": "c43ed1a4",
   "metadata": {
    "execution": {
     "iopub.execute_input": "2025-04-25T01:12:44.029040Z",
     "iopub.status.busy": "2025-04-25T01:12:44.028696Z",
     "iopub.status.idle": "2025-04-25T01:12:44.280666Z",
     "shell.execute_reply": "2025-04-25T01:12:44.279774Z"
    },
    "papermill": {
     "duration": 0.264944,
     "end_time": "2025-04-25T01:12:44.282287",
     "exception": false,
     "start_time": "2025-04-25T01:12:44.017343",
     "status": "completed"
    },
    "tags": []
   },
   "outputs": [
    {
     "data": {
      "image/png": "[encoded data removed]",
      "text/plain": [
       "<Figure size 800x600 with 1 Axes>"
      ]
     },
     "metadata": {},
     "output_type": "display_data"
    }
   ],
   "source": [
    "import matplotlib.pyplot as plt\n",
    "import seaborn as sns\n",
    "import pandas as pd\n",
    "\n",
    "# Assuming you have a DataFrame called 'df' loaded with your dataset\n",
    "# If not, replace this with your data loading method\n",
    "# Example of loading a CSV file:\n",
    "# df = pd.read_csv('your_diabetes_dataset.csv')\n",
    "\n",
    "plt.figure(figsize=(8, 6))\n",
    "sns.countplot(data=df, x='hypertension', hue='diabetes')\n",
    "plt.title('Hypertension Grouped by Diabetes')\n",
    "plt.xlabel('Hypertension (0 = No, 1 = Yes)')  # Adjust label if your encoding is different\n",
    "plt.ylabel('Count')\n",
    "plt.xticks(ticks=df['hypertension'].unique(), labels=sorted(['No' if val == 0 else 'Yes' for val in df['hypertension'].unique()])) # Dynamic labels\n",
    "plt.legend(title='Diabetes', labels=sorted(df['diabetes'].unique()))\n",
    "\n",
    "# Add annotations to the bars\n",
    "ax = plt.gca()\n",
    "for p in ax.patches:\n",
    "    height = p.get_height()\n",
    "    if height > 0:\n",
    "        ax.annotate(f'{int(height)}', (p.get_x() + p.get_width() / 2., height),\n",
    "                    ha='center', va='bottom', fontsize=10, color='black', xytext=(0, 5),\n",
    "                    textcoords='offset points')\n",
    "\n",
    "plt.tight_layout()\n",
    "plt.show()"
   ]
  },
  {
   "cell_type": "code",
   "execution_count": 14,
   "id": "3efe07d6",
   "metadata": {
    "execution": {
     "iopub.execute_input": "2025-04-25T01:12:44.306606Z",
     "iopub.status.busy": "2025-04-25T01:12:44.306306Z",
     "iopub.status.idle": "2025-04-25T01:12:44.550865Z",
     "shell.execute_reply": "2025-04-25T01:12:44.549807Z"
    },
    "papermill": {
     "duration": 0.258218,
     "end_time": "2025-04-25T01:12:44.552566",
     "exception": false,
     "start_time": "2025-04-25T01:12:44.294348",
     "status": "completed"
    },
    "tags": []
   },
   "outputs": [
    {
     "data": {
      "image/png": "[encoded data removed]",
      "text/plain": [
       "<Figure size 800x600 with 1 Axes>"
      ]
     },
     "metadata": {},
     "output_type": "display_data"
    }
   ],
   "source": [
    "import matplotlib.pyplot as plt\n",
    "import seaborn as sns\n",
    "import pandas as pd\n",
    "\n",
    "# Assuming you have a DataFrame called 'df' loaded with your dataset\n",
    "# If not, replace this with your data loading method\n",
    "# Example of loading a CSV file:\n",
    "# df = pd.read_csv('your_diabetes_dataset.csv')\n",
    "\n",
    "plt.figure(figsize=(8, 6))\n",
    "sns.countplot(data=df, x='heart_disease', hue='diabetes')\n",
    "plt.title('Heart Disease Grouped by Diabetes')\n",
    "plt.xlabel('Heart Disease (0 = No, 1 = Yes)')  # Adjust label if your encoding is different\n",
    "plt.ylabel('Count')\n",
    "plt.xticks(ticks=df['heart_disease'].unique(), labels=sorted(['No' if val == 0 else 'Yes' for val in df['heart_disease'].unique()])) # Dynamic labels\n",
    "plt.legend(title='Diabetes', labels=sorted(df['diabetes'].unique()))\n",
    "\n",
    "# Add annotations to the bars\n",
    "ax = plt.gca()\n",
    "for p in ax.patches:\n",
    "    height = p.get_height()\n",
    "    if height > 0:\n",
    "        ax.annotate(f'{int(height)}', (p.get_x() + p.get_width() / 2., height),\n",
    "                    ha='center', va='bottom', fontsize=10, color='black', xytext=(0, 5),\n",
    "                    textcoords='offset points')\n",
    "\n",
    "plt.tight_layout()\n",
    "plt.show()"
   ]
  },
  {
   "cell_type": "code",
   "execution_count": 15,
   "id": "b91715aa",
   "metadata": {
    "execution": {
     "iopub.execute_input": "2025-04-25T01:12:44.578531Z",
     "iopub.status.busy": "2025-04-25T01:12:44.578195Z",
     "iopub.status.idle": "2025-04-25T01:12:44.934605Z",
     "shell.execute_reply": "2025-04-25T01:12:44.933695Z"
    },
    "papermill": {
     "duration": 0.371313,
     "end_time": "2025-04-25T01:12:44.936512",
     "exception": false,
     "start_time": "2025-04-25T01:12:44.565199",
     "status": "completed"
    },
    "tags": []
   },
   "outputs": [
    {
     "data": {
      "image/png": "[encoded data removed]",
      "text/plain": [
       "<Figure size 1000x600 with 1 Axes>"
      ]
     },
     "metadata": {},
     "output_type": "display_data"
    }
   ],
   "source": [
    "import matplotlib.pyplot as plt\n",
    "import seaborn as sns\n",
    "import pandas as pd\n",
    "\n",
    "# Assuming you have a DataFrame called 'df' loaded with your dataset\n",
    "# If not, replace this with your data loading method\n",
    "# Example of loading a CSV file:\n",
    "# df = pd.read_csv('your_diabetes_dataset.csv')\n",
    "\n",
    "plt.figure(figsize=(10, 6))  # Adjust figure size for better readability\n",
    "ax = sns.countplot(data=df, x='smoking_history', hue='diabetes')\n",
    "plt.title('Smoking History Grouped by Diabetes')\n",
    "plt.xlabel('Smoking History')\n",
    "plt.ylabel('Count')\n",
    "plt.xticks(rotation=45, ha='right')  # Rotate x-axis labels for better readability\n",
    "plt.legend(title='Diabetes', labels=sorted(df['diabetes'].unique()))\n",
    "\n",
    "# Add annotations to the bars\n",
    "for p in ax.patches:\n",
    "    height = p.get_height()\n",
    "    if height > 0:\n",
    "        ax.annotate(f'{int(height)}', (p.get_x() + p.get_width() / 2., height),\n",
    "                    ha='center', va='bottom', fontsize=8, color='black', xytext=(0, 5),\n",
    "                    textcoords='offset points')\n",
    "\n",
    "plt.tight_layout()\n",
    "plt.show()"
   ]
  },
  {
   "cell_type": "code",
   "execution_count": 16,
   "id": "edb95ffc",
   "metadata": {
    "execution": {
     "iopub.execute_input": "2025-04-25T01:12:44.965932Z",
     "iopub.status.busy": "2025-04-25T01:12:44.965589Z",
     "iopub.status.idle": "2025-04-25T01:12:45.276508Z",
     "shell.execute_reply": "2025-04-25T01:12:45.275608Z"
    },
    "papermill": {
     "duration": 0.326244,
     "end_time": "2025-04-25T01:12:45.277927",
     "exception": false,
     "start_time": "2025-04-25T01:12:44.951683",
     "status": "completed"
    },
    "tags": []
   },
   "outputs": [
    {
     "data": {
      "image/png": "[encoded data removed]",
      "text/plain": [
       "<Figure size 600x400 with 1 Axes>"
      ]
     },
     "metadata": {},
     "output_type": "display_data"
    },
    {
     "data": {
      "image/png": "[encoded data removed]",
      "text/plain": [
       "<Figure size 600x600 with 1 Axes>"
      ]
     },
     "metadata": {},
     "output_type": "display_data"
    }
   ],
   "source": [
    "import matplotlib.pyplot as plt\n",
    "import seaborn as sns\n",
    "import pandas as pd\n",
    "\n",
    "# Assuming you have a DataFrame called 'df' loaded with your dataset\n",
    "# If not, replace this with your data loading method\n",
    "# Example of loading a CSV file:\n",
    "# df = pd.read_csv('your_diabetes_dataset.csv')\n",
    "\n",
    "# Bar Chart of Diabetes\n",
    "plt.figure(figsize=(6, 4))\n",
    "ax = sns.countplot(data=df, x='diabetes')\n",
    "plt.title('Distribution of Diabetes (Bar Chart)')\n",
    "plt.xlabel('Diabetes Status')\n",
    "plt.ylabel('Count')\n",
    "plt.xticks(ticks=df['diabetes'].unique(), labels=sorted(df['diabetes'].unique()))\n",
    "\n",
    "# Add annotations to the bars\n",
    "for p in ax.patches:\n",
    "    height = p.get_height()\n",
    "    if height > 0:\n",
    "        ax.annotate(f'{int(height)}', (p.get_x() + p.get_width() / 2., height),\n",
    "                    ha='center', va='bottom', fontsize=10, color='black', xytext=(0, 5),\n",
    "                    textcoords='offset points')\n",
    "\n",
    "plt.tight_layout()\n",
    "plt.show()\n",
    "\n",
    "# Pie Chart of Diabetes Distribution\n",
    "plt.figure(figsize=(6, 6))\n",
    "diabetes_counts = df['diabetes'].value_counts()\n",
    "plt.pie(diabetes_counts, labels=diabetes_counts.index, autopct='%1.1f%%', startangle=90)\n",
    "plt.title('Diabetes Distribution (Pie Chart)')\n",
    "plt.axis('equal')  # Equal aspect ratio ensures that pie is drawn as a circle.\n",
    "plt.legend(title='Diabetes:', labels=diabetes_counts.index, loc='best')\n",
    "plt.tight_layout()\n",
    "plt.show()"
   ]
  },
  {
   "cell_type": "code",
   "execution_count": 17,
   "id": "544b335a",
   "metadata": {
    "execution": {
     "iopub.execute_input": "2025-04-25T01:12:45.307136Z",
     "iopub.status.busy": "2025-04-25T01:12:45.306792Z",
     "iopub.status.idle": "2025-04-25T01:12:45.761349Z",
     "shell.execute_reply": "2025-04-25T01:12:45.760403Z"
    },
    "papermill": {
     "duration": 0.470974,
     "end_time": "2025-04-25T01:12:45.762821",
     "exception": false,
     "start_time": "2025-04-25T01:12:45.291847",
     "status": "completed"
    },
    "tags": []
   },
   "outputs": [
    {
     "name": "stdout",
     "output_type": "stream",
     "text": [
      "Minimum BMI: 10.01\n",
      "Maximum BMI: 95.69\n",
      "Average BMI: 27.32146111122667\n",
      "\n",
      "Diabetes Counts:\n",
      "diabetes_label\n",
      "No Diabetes    87664\n",
      "Diabetes        8482\n",
      "Name: count, dtype: int64\n",
      "\n",
      "BMI Statistics by Diabetes Status:\n",
      "                  min    max\n",
      "diabetes_label              \n",
      "Diabetes        10.98  88.72\n",
      "No Diabetes     10.01  95.69\n"
     ]
    },
    {
     "data": {
      "image/png": "[encoded data removed]",
      "text/plain": [
       "<Figure size 1400x600 with 2 Axes>"
      ]
     },
     "metadata": {},
     "output_type": "display_data"
    }
   ],
   "source": [
    "import matplotlib.pyplot as plt\n",
    "import pandas as pd\n",
    "import seaborn as sns\n",
    "\n",
    "# Assuming you have a DataFrame called 'df' loaded with your dataset\n",
    "# If not, replace this with your data loading method\n",
    "# Example of loading a CSV file:\n",
    "# df = pd.read_csv('your_diabetes_dataset.csv')\n",
    "\n",
    "# Convert 'diabetes' column to categorical for better labeling\n",
    "df['diabetes_label'] = df['diabetes'].map({0: 'No Diabetes', 1: 'Diabetes'})\n",
    "\n",
    "# Calculate minimum, maximum, and average BMI\n",
    "min_bmi = df['bmi'].min()\n",
    "max_bmi = df['bmi'].max()\n",
    "avg_bmi = df['bmi'].mean()\n",
    "\n",
    "# Count of individuals with and without diabetes\n",
    "diabetes_counts = df['diabetes_label'].value_counts()\n",
    "\n",
    "# Group by diabetes status and calculate min and max BMI\n",
    "grouped_bmi = df.groupby('diabetes_label')['bmi'].agg(['min', 'max'])\n",
    "\n",
    "# Print the results\n",
    "print(f\"Minimum BMI: {min_bmi}\")\n",
    "print(f\"Maximum BMI: {max_bmi}\")\n",
    "print(f\"Average BMI: {avg_bmi}\")\n",
    "print(\"\\nDiabetes Counts:\")\n",
    "print(diabetes_counts)\n",
    "print(\"\\nBMI Statistics by Diabetes Status:\")\n",
    "print(grouped_bmi)\n",
    "\n",
    "# Plotting\n",
    "fig, axes = plt.subplots(1, 2, figsize=(14, 6))\n",
    "\n",
    "# Plot for overall min, max, and average BMI\n",
    "bars_bmi = axes[0].bar(['Min BMI', 'Max BMI', 'Avg BMI'], [min_bmi, max_bmi, avg_bmi], color=['skyblue', 'salmon', 'lightgreen'])\n",
    "axes[0].set_title('Overall BMI Statistics')\n",
    "axes[0].set_ylabel('BMI')\n",
    "for bar in bars_bmi:\n",
    "    yval = bar.get_height()\n",
    "    axes[0].text(bar.get_x() + bar.get_width() / 2, yval, round(yval, 2), ha='center', va='bottom')\n",
    "\n",
    "# Plot for min and max BMI grouped by diabetes status\n",
    "grouped_bars_bmi = grouped_bmi.plot(kind='bar', ax=axes[1])\n",
    "axes[1].set_title('BMI Statistics by Diabetes Status')\n",
    "axes[1].set_ylabel('BMI')\n",
    "axes[1].set_xticklabels(grouped_bmi.index, rotation=0)  # Rotate x-axis labels for readability\n",
    "for p in grouped_bars_bmi.patches:\n",
    "    axes[1].annotate(f'{p.get_height():.2f}', (p.get_x() + p.get_width() / 2., p.get_height()),\n",
    "                     ha='center', va='bottom')\n",
    "\n",
    "plt.tight_layout()\n",
    "plt.show()\n",
    "\n"
   ]
  },
  {
   "cell_type": "markdown",
   "id": "ce9499c3",
   "metadata": {
    "papermill": {
     "duration": 0.014463,
     "end_time": "2025-04-25T01:12:45.792155",
     "exception": false,
     "start_time": "2025-04-25T01:12:45.777692",
     "status": "completed"
    },
    "tags": []
   },
   "source": [
    "**Key Facts of Diabetes based on given data:** \n",
    "\n",
    "Minimum BMI: 10.98: The lowest BMI among individuals with diabetes is 10.98 (still severely underweight).\n",
    "Maximum BMI: 88.72: The highest BMI among individuals with diabetes is 88.72 (extremely obese).\n",
    "No Diabetes:\n",
    "Minimum BMI: 10.01: The lowest BMI among individuals without diabetes is 10.01 (severely underweight).\n",
    "Maximum BMI: 95.69: The highest BMI among individuals without diabetes is 95.69 (extremely obese).\n",
    "\n",
    "Average BMI: 27.32: This is the mean BMI across all individuals in your dataset. A BMI of 27.32 falls into the \"overweight\" category (according to the World Health Organization's classifications, which are typically:\n",
    "Underweight: < 18.5\n",
    "Normal weight: 18.5 - 24.9\n",
    "Overweight: 25 - 29.9\n",
    "Obese: ≥ 30)"
   ]
  },
  {
   "cell_type": "code",
   "execution_count": 18,
   "id": "4377ef11",
   "metadata": {
    "execution": {
     "iopub.execute_input": "2025-04-25T01:12:45.822404Z",
     "iopub.status.busy": "2025-04-25T01:12:45.822087Z",
     "iopub.status.idle": "2025-04-25T01:12:45.853583Z",
     "shell.execute_reply": "2025-04-25T01:12:45.852553Z"
    },
    "papermill": {
     "duration": 0.048712,
     "end_time": "2025-04-25T01:12:45.855241",
     "exception": false,
     "start_time": "2025-04-25T01:12:45.806529",
     "status": "completed"
    },
    "tags": []
   },
   "outputs": [
    {
     "name": "stdout",
     "output_type": "stream",
     "text": [
      "Age Statistics by Diabetes Status:\n",
      "            count       mean        std   min   25%   50%   75%   max\n",
      "diabetes                                                             \n",
      "0         87664.0  39.943229  22.228281  0.08  22.0  40.0  57.0  80.0\n",
      "1          8482.0  60.925961  14.545301  3.00  52.0  62.0  72.0  80.0\n",
      "\n",
      "Minimum and Maximum Age by Diabetes Status:\n",
      "           min   max\n",
      "diabetes            \n",
      "0         0.08  80.0\n",
      "1         3.00  80.0\n",
      "\n",
      "Mean and Median Age by Diabetes Status:\n",
      "               mean  median\n",
      "diabetes                   \n",
      "0         39.943229    40.0\n",
      "1         60.925961    62.0\n"
     ]
    }
   ],
   "source": [
    "import pandas as pd\n",
    "\n",
    "# Group by diabetes status\n",
    "grouped_age = df.groupby('diabetes')['age']\n",
    "\n",
    "# Calculate descriptive statistics for each group\n",
    "age_stats = grouped_age.describe()\n",
    "print(\"Age Statistics by Diabetes Status:\")\n",
    "print(age_stats)\n",
    "\n",
    "# Get min and max age for each group (as you did before)\n",
    "min_max_age = grouped_age.agg(['min', 'max'])\n",
    "print(\"\\nMinimum and Maximum Age by Diabetes Status:\")\n",
    "print(min_max_age)\n",
    "\n",
    "# Get mean and median age for each group\n",
    "mean_median_age = grouped_age.agg(['mean', 'median'])\n",
    "print(\"\\nMean and Median Age by Diabetes Status:\")\n",
    "print(mean_median_age)"
   ]
  },
  {
   "cell_type": "code",
   "execution_count": 19,
   "id": "2b8527db",
   "metadata": {
    "execution": {
     "iopub.execute_input": "2025-04-25T01:12:45.885722Z",
     "iopub.status.busy": "2025-04-25T01:12:45.885405Z",
     "iopub.status.idle": "2025-04-25T01:12:46.294739Z",
     "shell.execute_reply": "2025-04-25T01:12:46.293837Z"
    },
    "papermill": {
     "duration": 0.426502,
     "end_time": "2025-04-25T01:12:46.296407",
     "exception": false,
     "start_time": "2025-04-25T01:12:45.869905",
     "status": "completed"
    },
    "tags": []
   },
   "outputs": [
    {
     "name": "stdout",
     "output_type": "stream",
     "text": [
      "Minimum age: 0.08\n",
      "Maximum age: 80.0\n",
      "Average age: 41.79432571297818\n",
      "Diabetes Counts:\n",
      "diabetes\n",
      "0    87664\n",
      "1     8482\n",
      "Name: count, dtype: int64\n",
      "Age Statistics by Diabetes Status:\n",
      "           min   max\n",
      "diabetes            \n",
      "0         0.08  80.0\n",
      "1         3.00  80.0\n"
     ]
    },
    {
     "data": {
      "image/png": "[encoded data removed]",
      "text/plain": [
       "<Figure size 1400x600 with 2 Axes>"
      ]
     },
     "metadata": {},
     "output_type": "display_data"
    }
   ],
   "source": [
    "import matplotlib.pyplot as plt\n",
    "import pandas as pd\n",
    "\n",
    "# Assuming you have a DataFrame called 'df' loaded with your dataset\n",
    "# If not, replace this with your data loading method\n",
    "# Example of loading a CSV file:\n",
    "# df = pd.read_csv('your_diabetes_dataset.csv')\n",
    "\n",
    "# Calculate minimum, maximum, and average age\n",
    "min_age = df['age'].min()\n",
    "max_age = df['age'].max()\n",
    "avg_age = df['age'].mean()\n",
    "\n",
    "# Count of individuals with and without diabetes\n",
    "diabetes_counts = df['diabetes'].value_counts()\n",
    "\n",
    "# Group by diabetes status and calculate min and max age\n",
    "grouped_age = df.groupby('diabetes')['age'].agg(['min', 'max'])\n",
    "\n",
    "# Print the results\n",
    "print(f\"Minimum age: {min_age}\")\n",
    "print(f\"Maximum age: {max_age}\")\n",
    "print(f\"Average age: {avg_age}\")\n",
    "print(\"Diabetes Counts:\")\n",
    "print(diabetes_counts)\n",
    "print(\"Age Statistics by Diabetes Status:\")\n",
    "print(grouped_age)\n",
    "\n",
    "# Plotting\n",
    "fig, axes = plt.subplots(1, 2, figsize=(14, 6))\n",
    "\n",
    "# Plot for overall min, max, and average age\n",
    "bars_age = axes[0].bar(['Min Age', 'Max Age', 'Avg Age'], [min_age, max_age, avg_age], color=['skyblue', 'salmon', 'lightgreen'])\n",
    "axes[0].set_title('Overall Age Statistics')\n",
    "axes[0].set_ylabel('Age')\n",
    "for bar in bars_age:\n",
    "    yval = bar.get_height()\n",
    "    axes[0].text(bar.get_x() + bar.get_width() / 2, yval, round(yval, 2), ha='center', va='bottom')\n",
    "\n",
    "# Plot for min and max ages grouped by diabetes status\n",
    "grouped_bars_age = grouped_age.plot(kind='bar', ax=axes[1])\n",
    "axes[1].set_title('Age Statistics by Diabetes Status')\n",
    "axes[1].set_ylabel('Age')\n",
    "axes[1].set_xticklabels(['No Diabetes', 'Diabetes'], rotation=0)  # Ensure correct labels\n",
    "for p in grouped_bars_age.patches:\n",
    "    axes[1].annotate(f'{p.get_height():.2f}', (p.get_x() + p.get_width() / 2., p.get_height()),\n",
    "                     ha='center', va='bottom')\n",
    "\n",
    "plt.tight_layout()\n",
    "plt.show()"
   ]
  },
  {
   "cell_type": "markdown",
   "id": "b59566f7",
   "metadata": {
    "papermill": {
     "duration": 0.016446,
     "end_time": "2025-04-25T01:12:46.329358",
     "exception": false,
     "start_time": "2025-04-25T01:12:46.312912",
     "status": "completed"
    },
    "tags": []
   },
   "source": [
    "**Overall Age Statistics:**\n",
    "\n",
    "Minimum age: 0.08: The youngest individual in your dataset is approximately 0.08 years old. This translates to roughly one month old (0.08 * 12 months). This suggests you might have data including infants.\n",
    "Maximum age: 80.0: The oldest individual in your dataset is 80 years old.\n",
    "Average age: 41.79: The mean age of all individuals in your dataset is approximately 41.79 years. This gives you a central tendency of the age distribution."
   ]
  },
  {
   "cell_type": "markdown",
   "id": "f5db06a3",
   "metadata": {
    "papermill": {
     "duration": 0.016834,
     "end_time": "2025-04-25T01:12:46.362066",
     "exception": false,
     "start_time": "2025-04-25T01:12:46.345232",
     "status": "completed"
    },
    "tags": []
   },
   "source": [
    "# Encode Labels\n",
    "* Columns Like Smoking History & Gender\n",
    "* LabelEncoder converts these categorical strings into a numerical format that these algorithms can understand and work with."
   ]
  },
  {
   "cell_type": "code",
   "execution_count": 20,
   "id": "d6dd0889",
   "metadata": {
    "execution": {
     "iopub.execute_input": "2025-04-25T01:12:46.396090Z",
     "iopub.status.busy": "2025-04-25T01:12:46.395749Z",
     "iopub.status.idle": "2025-04-25T01:12:46.437424Z",
     "shell.execute_reply": "2025-04-25T01:12:46.436442Z"
    },
    "papermill": {
     "duration": 0.060094,
     "end_time": "2025-04-25T01:12:46.439134",
     "exception": false,
     "start_time": "2025-04-25T01:12:46.379040",
     "status": "completed"
    },
    "tags": []
   },
   "outputs": [],
   "source": [
    "# Encode the data\n",
    "from sklearn.preprocessing import LabelEncoder\n",
    "le = LabelEncoder()\n",
    "df['gender'] = le.fit_transform(df['gender'])\n",
    "df['smoking_history'] = le.fit_transform(df['smoking_history'])"
   ]
  },
  {
   "cell_type": "markdown",
   "id": "b379c88f",
   "metadata": {
    "papermill": {
     "duration": 0.015506,
     "end_time": "2025-04-25T01:12:46.471000",
     "exception": false,
     "start_time": "2025-04-25T01:12:46.455494",
     "status": "completed"
    },
    "tags": []
   },
   "source": [
    "# Principal Component Analysis (PCA)"
   ]
  },
  {
   "cell_type": "code",
   "execution_count": 21,
   "id": "d2bc2f00",
   "metadata": {
    "execution": {
     "iopub.execute_input": "2025-04-25T01:12:46.503122Z",
     "iopub.status.busy": "2025-04-25T01:12:46.502769Z",
     "iopub.status.idle": "2025-04-25T01:12:46.957802Z",
     "shell.execute_reply": "2025-04-25T01:12:46.956933Z"
    },
    "papermill": {
     "duration": 0.478002,
     "end_time": "2025-04-25T01:12:46.964227",
     "exception": false,
     "start_time": "2025-04-25T01:12:46.486225",
     "status": "completed"
    },
    "tags": []
   },
   "outputs": [
    {
     "name": "stderr",
     "output_type": "stream",
     "text": [
      "/tmp/ipykernel_13/2434487342.py:30: UserWarning: Setting the 'color' property will override the edgecolor or facecolor properties.\n",
      "  plt.annotate(f'Max: PC {max_index + 1}',\n"
     ]
    },
    {
     "data": {
      "image/png": "[encoded data removed]",
      "text/plain": [
       "<Figure size 1000x600 with 1 Axes>"
      ]
     },
     "metadata": {},
     "output_type": "display_data"
    },
    {
     "name": "stdout",
     "output_type": "stream",
     "text": [
      "Principal Component 1: 0.2287 cumulative explained variance\n",
      "Principal Component 2: 0.3729 cumulative explained variance\n",
      "Principal Component 3: 0.5031 cumulative explained variance\n",
      "Principal Component 4: 0.6154 cumulative explained variance\n",
      "Principal Component 5: 0.7234 cumulative explained variance\n",
      "Principal Component 6: 0.8270 cumulative explained variance\n",
      "Principal Component 7: 0.9273 cumulative explained variance\n",
      "Principal Component 8: 1.0000 cumulative explained variance\n"
     ]
    }
   ],
   "source": [
    "# Assume df is the dataframe\n",
    "from sklearn.decomposition import PCA\n",
    "\n",
    "# Selecting features and target variable\n",
    "features = ['gender', 'age', 'hypertension', 'heart_disease', 'smoking_history', 'bmi', 'HbA1c_level', 'blood_glucose_level']\n",
    "X = df[features]\n",
    "y = df['diabetes']\n",
    "\n",
    "# Standardizing the features\n",
    "scaler = StandardScaler()\n",
    "X_scaled = scaler.fit_transform(X)\n",
    "\n",
    "# Applying PCA\n",
    "pca = PCA()\n",
    "X_pca = pca.fit_transform(X_scaled)\n",
    "\n",
    "# Plotting the cumulative explained variance\n",
    "plt.figure(figsize=(10, 6))\n",
    "plt.plot(range(1, len(pca.explained_variance_ratio_) + 1), \n",
    "         pca.explained_variance_ratio_.cumsum(), marker='o', linestyle='--')\n",
    "plt.title('Explained Variance by Number of Principal Components')\n",
    "plt.xlabel('Number of Principal Components')\n",
    "plt.ylabel('Cumulative Explained Variance')\n",
    "plt.grid()\n",
    "\n",
    "# Find the index of the maximum cumulative explained variance\n",
    "max_index = pca.explained_variance_ratio_.cumsum().argmax()\n",
    "\n",
    "# Annotate the point with the highest cumulative explained variance\n",
    "plt.annotate(f'Max: PC {max_index + 1}',\n",
    "             xy=(max_index + 1, pca.explained_variance_ratio_.cumsum()[max_index]),\n",
    "             xytext=(max_index + 2, pca.explained_variance_ratio_.cumsum()[max_index] - 0.05),\n",
    "             arrowprops=dict(facecolor='black', arrowstyle='->', color='black'))\n",
    "\n",
    "plt.show()\n",
    "\n",
    "# Printing explained variance ratios\n",
    "for i, ratio in enumerate(pca.explained_variance_ratio_.cumsum()):\n",
    "    print(f'Principal Component {i+1}: {ratio:.4f} cumulative explained variance')\n",
    "\n",
    "# Choose the number of components that explain most of the variance\n",
    "n_components = max_index + 1\n",
    "\n",
    "# Applying PCA with the optimal number of components\n",
    "pca = PCA(n_components=n_components)\n",
    "X_pca = pca.fit_transform(X_scaled)"
   ]
  },
  {
   "cell_type": "markdown",
   "id": "936592e9",
   "metadata": {
    "papermill": {
     "duration": 0.027249,
     "end_time": "2025-04-25T01:12:47.021506",
     "exception": false,
     "start_time": "2025-04-25T01:12:46.994257",
     "status": "completed"
    },
    "tags": []
   },
   "source": [
    "* Best Case: Principal Component 8: 1.0000 cumulative explained variance"
   ]
  },
  {
   "cell_type": "code",
   "execution_count": 22,
   "id": "85e08f56",
   "metadata": {
    "execution": {
     "iopub.execute_input": "2025-04-25T01:12:47.073927Z",
     "iopub.status.busy": "2025-04-25T01:12:47.073603Z",
     "iopub.status.idle": "2025-04-25T01:12:47.079649Z",
     "shell.execute_reply": "2025-04-25T01:12:47.078838Z"
    },
    "papermill": {
     "duration": 0.03172,
     "end_time": "2025-04-25T01:12:47.081118",
     "exception": false,
     "start_time": "2025-04-25T01:12:47.049398",
     "status": "completed"
    },
    "tags": []
   },
   "outputs": [],
   "source": [
    "import pickle\n",
    "from sklearn.preprocessing import StandardScaler\n",
    "from sklearn.decomposition import PCA\n",
    "\n",
    "# 'Scaler' and 'pca' are the fitted StandardScaler and PCA objects\n",
    "with open('scaler.pkl', 'wb') as f:\n",
    "    pickle.dump(scaler, f)\n",
    "\n",
    "with open('pca.pkl', 'wb') as f:\n",
    "    pickle.dump(pca, f)"
   ]
  },
  {
   "cell_type": "code",
   "execution_count": 23,
   "id": "33547a22",
   "metadata": {
    "execution": {
     "iopub.execute_input": "2025-04-25T01:12:47.115361Z",
     "iopub.status.busy": "2025-04-25T01:12:47.115076Z",
     "iopub.status.idle": "2025-04-25T01:12:47.120333Z",
     "shell.execute_reply": "2025-04-25T01:12:47.119257Z"
    },
    "papermill": {
     "duration": 0.023903,
     "end_time": "2025-04-25T01:12:47.121671",
     "exception": false,
     "start_time": "2025-04-25T01:12:47.097768",
     "status": "completed"
    },
    "tags": []
   },
   "outputs": [
    {
     "name": "stdout",
     "output_type": "stream",
     "text": [
      "['scaler.pkl', '__notebook__.ipynb', 'pca.pkl']\n"
     ]
    }
   ],
   "source": [
    "import os\n",
    "print(os.listdir('.'))"
   ]
  },
  {
   "cell_type": "code",
   "execution_count": 24,
   "id": "4f43bd04",
   "metadata": {
    "execution": {
     "iopub.execute_input": "2025-04-25T01:12:47.157653Z",
     "iopub.status.busy": "2025-04-25T01:12:47.157330Z",
     "iopub.status.idle": "2025-04-25T01:12:47.169461Z",
     "shell.execute_reply": "2025-04-25T01:12:47.168477Z"
    },
    "papermill": {
     "duration": 0.032549,
     "end_time": "2025-04-25T01:12:47.170897",
     "exception": false,
     "start_time": "2025-04-25T01:12:47.138348",
     "status": "completed"
    },
    "tags": []
   },
   "outputs": [
    {
     "data": {
      "text/html": [
       "<div>\n",
       "<style scoped>\n",
       "    .dataframe tbody tr th:only-of-type {\n",
       "        vertical-align: middle;\n",
       "    }\n",
       "\n",
       "    .dataframe tbody tr th {\n",
       "        vertical-align: top;\n",
       "    }\n",
       "\n",
       "    .dataframe thead th {\n",
       "        text-align: right;\n",
       "    }\n",
       "</style>\n",
       "<table border=\"1\" class=\"dataframe\">\n",
       "  <thead>\n",
       "    <tr style=\"text-align: right;\">\n",
       "      <th></th>\n",
       "      <th>gender</th>\n",
       "      <th>age</th>\n",
       "      <th>hypertension</th>\n",
       "      <th>heart_disease</th>\n",
       "      <th>smoking_history</th>\n",
       "      <th>bmi</th>\n",
       "      <th>HbA1c_level</th>\n",
       "      <th>blood_glucose_level</th>\n",
       "      <th>diabetes</th>\n",
       "      <th>diabetes_label</th>\n",
       "    </tr>\n",
       "  </thead>\n",
       "  <tbody>\n",
       "    <tr>\n",
       "      <th>0</th>\n",
       "      <td>0</td>\n",
       "      <td>80.0</td>\n",
       "      <td>0</td>\n",
       "      <td>1</td>\n",
       "      <td>4</td>\n",
       "      <td>25.19</td>\n",
       "      <td>6.6</td>\n",
       "      <td>140</td>\n",
       "      <td>0</td>\n",
       "      <td>No Diabetes</td>\n",
       "    </tr>\n",
       "    <tr>\n",
       "      <th>1</th>\n",
       "      <td>0</td>\n",
       "      <td>54.0</td>\n",
       "      <td>0</td>\n",
       "      <td>0</td>\n",
       "      <td>0</td>\n",
       "      <td>27.32</td>\n",
       "      <td>6.6</td>\n",
       "      <td>80</td>\n",
       "      <td>0</td>\n",
       "      <td>No Diabetes</td>\n",
       "    </tr>\n",
       "    <tr>\n",
       "      <th>2</th>\n",
       "      <td>1</td>\n",
       "      <td>28.0</td>\n",
       "      <td>0</td>\n",
       "      <td>0</td>\n",
       "      <td>4</td>\n",
       "      <td>27.32</td>\n",
       "      <td>5.7</td>\n",
       "      <td>158</td>\n",
       "      <td>0</td>\n",
       "      <td>No Diabetes</td>\n",
       "    </tr>\n",
       "  </tbody>\n",
       "</table>\n",
       "</div>"
      ],
      "text/plain": [
       "   gender   age  hypertension  heart_disease  smoking_history    bmi  \\\n",
       "0       0  80.0             0              1                4  25.19   \n",
       "1       0  54.0             0              0                0  27.32   \n",
       "2       1  28.0             0              0                4  27.32   \n",
       "\n",
       "   HbA1c_level  blood_glucose_level  diabetes diabetes_label  \n",
       "0          6.6                  140         0    No Diabetes  \n",
       "1          6.6                   80         0    No Diabetes  \n",
       "2          5.7                  158         0    No Diabetes  "
      ]
     },
     "execution_count": 24,
     "metadata": {},
     "output_type": "execute_result"
    }
   ],
   "source": [
    "df[:3]"
   ]
  },
  {
   "cell_type": "code",
   "execution_count": 25,
   "id": "ef47cebf",
   "metadata": {
    "execution": {
     "iopub.execute_input": "2025-04-25T01:12:47.206802Z",
     "iopub.status.busy": "2025-04-25T01:12:47.206509Z",
     "iopub.status.idle": "2025-04-25T01:12:47.213814Z",
     "shell.execute_reply": "2025-04-25T01:12:47.212512Z"
    },
    "papermill": {
     "duration": 0.027925,
     "end_time": "2025-04-25T01:12:47.215447",
     "exception": false,
     "start_time": "2025-04-25T01:12:47.187522",
     "status": "completed"
    },
    "tags": []
   },
   "outputs": [
    {
     "data": {
      "text/plain": [
       "(96146, 10)"
      ]
     },
     "execution_count": 25,
     "metadata": {},
     "output_type": "execute_result"
    }
   ],
   "source": [
    "df.shape\n"
   ]
  },
  {
   "cell_type": "code",
   "execution_count": 26,
   "id": "81446b9b",
   "metadata": {
    "execution": {
     "iopub.execute_input": "2025-04-25T01:12:47.251640Z",
     "iopub.status.busy": "2025-04-25T01:12:47.251332Z",
     "iopub.status.idle": "2025-04-25T01:12:47.263588Z",
     "shell.execute_reply": "2025-04-25T01:12:47.262486Z"
    },
    "papermill": {
     "duration": 0.031975,
     "end_time": "2025-04-25T01:12:47.265408",
     "exception": false,
     "start_time": "2025-04-25T01:12:47.233433",
     "status": "completed"
    },
    "tags": []
   },
   "outputs": [],
   "source": [
    "df['diabetes'] = df['diabetes'].map({'No Diabetes': 0, 'Diabetes': 1})"
   ]
  },
  {
   "cell_type": "code",
   "execution_count": 27,
   "id": "ddf8d5ec",
   "metadata": {
    "execution": {
     "iopub.execute_input": "2025-04-25T01:12:47.300634Z",
     "iopub.status.busy": "2025-04-25T01:12:47.300359Z",
     "iopub.status.idle": "2025-04-25T01:12:47.317753Z",
     "shell.execute_reply": "2025-04-25T01:12:47.317015Z"
    },
    "papermill": {
     "duration": 0.036562,
     "end_time": "2025-04-25T01:12:47.319345",
     "exception": false,
     "start_time": "2025-04-25T01:12:47.282783",
     "status": "completed"
    },
    "tags": []
   },
   "outputs": [],
   "source": [
    "df = pd.get_dummies(df, columns=['gender', 'smoking_history'], drop_first=True)"
   ]
  },
  {
   "cell_type": "code",
   "execution_count": 28,
   "id": "0c1c08ba",
   "metadata": {
    "execution": {
     "iopub.execute_input": "2025-04-25T01:12:47.354018Z",
     "iopub.status.busy": "2025-04-25T01:12:47.353423Z",
     "iopub.status.idle": "2025-04-25T01:12:47.358900Z",
     "shell.execute_reply": "2025-04-25T01:12:47.358153Z"
    },
    "papermill": {
     "duration": 0.024622,
     "end_time": "2025-04-25T01:12:47.360436",
     "exception": false,
     "start_time": "2025-04-25T01:12:47.335814",
     "status": "completed"
    },
    "tags": []
   },
   "outputs": [
    {
     "data": {
      "text/plain": [
       "Index(['age', 'hypertension', 'heart_disease', 'bmi', 'HbA1c_level',\n",
       "       'blood_glucose_level', 'diabetes', 'diabetes_label', 'gender_1',\n",
       "       'gender_2', 'smoking_history_1', 'smoking_history_2',\n",
       "       'smoking_history_3', 'smoking_history_4', 'smoking_history_5'],\n",
       "      dtype='object')"
      ]
     },
     "execution_count": 28,
     "metadata": {},
     "output_type": "execute_result"
    }
   ],
   "source": [
    "df.columns"
   ]
  },
  {
   "cell_type": "code",
   "execution_count": 29,
   "id": "c7d1a42b",
   "metadata": {
    "execution": {
     "iopub.execute_input": "2025-04-25T01:12:47.395998Z",
     "iopub.status.busy": "2025-04-25T01:12:47.395647Z",
     "iopub.status.idle": "2025-04-25T01:12:47.414254Z",
     "shell.execute_reply": "2025-04-25T01:12:47.413286Z"
    },
    "papermill": {
     "duration": 0.03757,
     "end_time": "2025-04-25T01:12:47.415828",
     "exception": false,
     "start_time": "2025-04-25T01:12:47.378258",
     "status": "completed"
    },
    "tags": []
   },
   "outputs": [
    {
     "name": "stdout",
     "output_type": "stream",
     "text": [
      "<class 'pandas.core.frame.DataFrame'>\n",
      "Index: 96146 entries, 0 to 99999\n",
      "Data columns (total 15 columns):\n",
      " #   Column               Non-Null Count  Dtype  \n",
      "---  ------               --------------  -----  \n",
      " 0   age                  96146 non-null  float64\n",
      " 1   hypertension         96146 non-null  int64  \n",
      " 2   heart_disease        96146 non-null  int64  \n",
      " 3   bmi                  96146 non-null  float64\n",
      " 4   HbA1c_level          96146 non-null  float64\n",
      " 5   blood_glucose_level  96146 non-null  int64  \n",
      " 6   diabetes             0 non-null      float64\n",
      " 7   diabetes_label       96146 non-null  object \n",
      " 8   gender_1             96146 non-null  bool   \n",
      " 9   gender_2             96146 non-null  bool   \n",
      " 10  smoking_history_1    96146 non-null  bool   \n",
      " 11  smoking_history_2    96146 non-null  bool   \n",
      " 12  smoking_history_3    96146 non-null  bool   \n",
      " 13  smoking_history_4    96146 non-null  bool   \n",
      " 14  smoking_history_5    96146 non-null  bool   \n",
      "dtypes: bool(7), float64(4), int64(3), object(1)\n",
      "memory usage: 7.2+ MB\n"
     ]
    }
   ],
   "source": [
    "df.info()"
   ]
  },
  {
   "cell_type": "code",
   "execution_count": 30,
   "id": "2b727d4e",
   "metadata": {
    "execution": {
     "iopub.execute_input": "2025-04-25T01:12:47.450694Z",
     "iopub.status.busy": "2025-04-25T01:12:47.450377Z",
     "iopub.status.idle": "2025-04-25T01:12:47.473020Z",
     "shell.execute_reply": "2025-04-25T01:12:47.471928Z"
    },
    "papermill": {
     "duration": 0.041976,
     "end_time": "2025-04-25T01:12:47.474628",
     "exception": false,
     "start_time": "2025-04-25T01:12:47.432652",
     "status": "completed"
    },
    "tags": []
   },
   "outputs": [
    {
     "name": "stdout",
     "output_type": "stream",
     "text": [
      "['No Diabetes' 'Diabetes']\n"
     ]
    }
   ],
   "source": [
    "print(df['diabetes_label'].unique())\n",
    "# Based on the output, apply the mapping:\n",
    "df['diabetes'] = df['diabetes_label'].map({'Not Diabetic': 0, 'Diabetic': 1})\n",
    "# OR\n",
    "df['diabetes'] = df['diabetes_label'].map({'No': 0, 'Yes': 1})\n",
    "# ... and so on, based on the actual unique values"
   ]
  },
  {
   "cell_type": "code",
   "execution_count": 31,
   "id": "fbc30960",
   "metadata": {
    "execution": {
     "iopub.execute_input": "2025-04-25T01:12:47.509509Z",
     "iopub.status.busy": "2025-04-25T01:12:47.508866Z",
     "iopub.status.idle": "2025-04-25T01:12:47.522986Z",
     "shell.execute_reply": "2025-04-25T01:12:47.522042Z"
    },
    "papermill": {
     "duration": 0.033027,
     "end_time": "2025-04-25T01:12:47.524374",
     "exception": false,
     "start_time": "2025-04-25T01:12:47.491347",
     "status": "completed"
    },
    "tags": []
   },
   "outputs": [
    {
     "name": "stderr",
     "output_type": "stream",
     "text": [
      "/usr/local/lib/python3.11/dist-packages/pandas/io/formats/format.py:1458: RuntimeWarning: invalid value encountered in greater\n",
      "  has_large_values = (abs_vals > 1e6).any()\n",
      "/usr/local/lib/python3.11/dist-packages/pandas/io/formats/format.py:1459: RuntimeWarning: invalid value encountered in less\n",
      "  has_small_values = ((abs_vals < 10 ** (-self.digits)) & (abs_vals > 0)).any()\n",
      "/usr/local/lib/python3.11/dist-packages/pandas/io/formats/format.py:1459: RuntimeWarning: invalid value encountered in greater\n",
      "  has_small_values = ((abs_vals < 10 ** (-self.digits)) & (abs_vals > 0)).any()\n"
     ]
    },
    {
     "data": {
      "text/plain": [
       "<bound method DataFrame.info of         age  hypertension  heart_disease    bmi  HbA1c_level  \\\n",
       "0      80.0             0              1  25.19          6.6   \n",
       "1      54.0             0              0  27.32          6.6   \n",
       "2      28.0             0              0  27.32          5.7   \n",
       "3      36.0             0              0  23.45          5.0   \n",
       "4      76.0             1              1  20.14          4.8   \n",
       "...     ...           ...            ...    ...          ...   \n",
       "99994  36.0             0              0  24.60          4.8   \n",
       "99996   2.0             0              0  17.37          6.5   \n",
       "99997  66.0             0              0  27.83          5.7   \n",
       "99998  24.0             0              0  35.42          4.0   \n",
       "99999  57.0             0              0  22.43          6.6   \n",
       "\n",
       "       blood_glucose_level  diabetes diabetes_label  gender_1  gender_2  \\\n",
       "0                      140       NaN    No Diabetes     False     False   \n",
       "1                       80       NaN    No Diabetes     False     False   \n",
       "2                      158       NaN    No Diabetes      True     False   \n",
       "3                      155       NaN    No Diabetes     False     False   \n",
       "4                      155       NaN    No Diabetes      True     False   \n",
       "...                    ...       ...            ...       ...       ...   \n",
       "99994                  145       NaN    No Diabetes     False     False   \n",
       "99996                  100       NaN    No Diabetes     False     False   \n",
       "99997                  155       NaN    No Diabetes      True     False   \n",
       "99998                  100       NaN    No Diabetes     False     False   \n",
       "99999                   90       NaN    No Diabetes     False     False   \n",
       "\n",
       "       smoking_history_1  smoking_history_2  smoking_history_3  \\\n",
       "0                  False              False              False   \n",
       "1                  False              False              False   \n",
       "2                  False              False              False   \n",
       "3                   True              False              False   \n",
       "4                   True              False              False   \n",
       "...                  ...                ...                ...   \n",
       "99994              False              False              False   \n",
       "99996              False              False              False   \n",
       "99997              False              False               True   \n",
       "99998              False              False              False   \n",
       "99999               True              False              False   \n",
       "\n",
       "       smoking_history_4  smoking_history_5  \n",
       "0                   True              False  \n",
       "1                  False              False  \n",
       "2                   True              False  \n",
       "3                  False              False  \n",
       "4                  False              False  \n",
       "...                  ...                ...  \n",
       "99994              False              False  \n",
       "99996              False              False  \n",
       "99997              False              False  \n",
       "99998               True              False  \n",
       "99999              False              False  \n",
       "\n",
       "[96146 rows x 15 columns]>"
      ]
     },
     "execution_count": 31,
     "metadata": {},
     "output_type": "execute_result"
    }
   ],
   "source": [
    "df.info"
   ]
  },
  {
   "cell_type": "code",
   "execution_count": 32,
   "id": "2cbd24a0",
   "metadata": {
    "execution": {
     "iopub.execute_input": "2025-04-25T01:12:47.560598Z",
     "iopub.status.busy": "2025-04-25T01:12:47.560322Z",
     "iopub.status.idle": "2025-04-25T01:12:47.571769Z",
     "shell.execute_reply": "2025-04-25T01:12:47.570745Z"
    },
    "papermill": {
     "duration": 0.03203,
     "end_time": "2025-04-25T01:12:47.573413",
     "exception": false,
     "start_time": "2025-04-25T01:12:47.541383",
     "status": "completed"
    },
    "tags": []
   },
   "outputs": [],
   "source": [
    "df['diabetes'] = df['diabetes_label'].map({'No Diabetes': 0, 'Diabetes': 1})"
   ]
  },
  {
   "cell_type": "code",
   "execution_count": 33,
   "id": "8c82e128",
   "metadata": {
    "execution": {
     "iopub.execute_input": "2025-04-25T01:12:47.609226Z",
     "iopub.status.busy": "2025-04-25T01:12:47.608902Z",
     "iopub.status.idle": "2025-04-25T01:12:47.616281Z",
     "shell.execute_reply": "2025-04-25T01:12:47.615409Z"
    },
    "papermill": {
     "duration": 0.026719,
     "end_time": "2025-04-25T01:12:47.617713",
     "exception": false,
     "start_time": "2025-04-25T01:12:47.590994",
     "status": "completed"
    },
    "tags": []
   },
   "outputs": [],
   "source": [
    "df = df.drop(['diabetes', 'diabetes_label'], axis=1)"
   ]
  },
  {
   "cell_type": "code",
   "execution_count": 34,
   "id": "f82dc71f",
   "metadata": {
    "execution": {
     "iopub.execute_input": "2025-04-25T01:12:47.653386Z",
     "iopub.status.busy": "2025-04-25T01:12:47.653100Z",
     "iopub.status.idle": "2025-04-25T01:12:47.666379Z",
     "shell.execute_reply": "2025-04-25T01:12:47.665555Z"
    },
    "papermill": {
     "duration": 0.032874,
     "end_time": "2025-04-25T01:12:47.667777",
     "exception": false,
     "start_time": "2025-04-25T01:12:47.634903",
     "status": "completed"
    },
    "tags": []
   },
   "outputs": [
    {
     "data": {
      "text/html": [
       "<div>\n",
       "<style scoped>\n",
       "    .dataframe tbody tr th:only-of-type {\n",
       "        vertical-align: middle;\n",
       "    }\n",
       "\n",
       "    .dataframe tbody tr th {\n",
       "        vertical-align: top;\n",
       "    }\n",
       "\n",
       "    .dataframe thead th {\n",
       "        text-align: right;\n",
       "    }\n",
       "</style>\n",
       "<table border=\"1\" class=\"dataframe\">\n",
       "  <thead>\n",
       "    <tr style=\"text-align: right;\">\n",
       "      <th></th>\n",
       "      <th>age</th>\n",
       "      <th>hypertension</th>\n",
       "      <th>heart_disease</th>\n",
       "      <th>bmi</th>\n",
       "      <th>HbA1c_level</th>\n",
       "      <th>blood_glucose_level</th>\n",
       "      <th>gender_1</th>\n",
       "      <th>gender_2</th>\n",
       "      <th>smoking_history_1</th>\n",
       "      <th>smoking_history_2</th>\n",
       "      <th>smoking_history_3</th>\n",
       "      <th>smoking_history_4</th>\n",
       "      <th>smoking_history_5</th>\n",
       "    </tr>\n",
       "  </thead>\n",
       "  <tbody>\n",
       "    <tr>\n",
       "      <th>0</th>\n",
       "      <td>80.0</td>\n",
       "      <td>0</td>\n",
       "      <td>1</td>\n",
       "      <td>25.19</td>\n",
       "      <td>6.6</td>\n",
       "      <td>140</td>\n",
       "      <td>False</td>\n",
       "      <td>False</td>\n",
       "      <td>False</td>\n",
       "      <td>False</td>\n",
       "      <td>False</td>\n",
       "      <td>True</td>\n",
       "      <td>False</td>\n",
       "    </tr>\n",
       "    <tr>\n",
       "      <th>1</th>\n",
       "      <td>54.0</td>\n",
       "      <td>0</td>\n",
       "      <td>0</td>\n",
       "      <td>27.32</td>\n",
       "      <td>6.6</td>\n",
       "      <td>80</td>\n",
       "      <td>False</td>\n",
       "      <td>False</td>\n",
       "      <td>False</td>\n",
       "      <td>False</td>\n",
       "      <td>False</td>\n",
       "      <td>False</td>\n",
       "      <td>False</td>\n",
       "    </tr>\n",
       "    <tr>\n",
       "      <th>2</th>\n",
       "      <td>28.0</td>\n",
       "      <td>0</td>\n",
       "      <td>0</td>\n",
       "      <td>27.32</td>\n",
       "      <td>5.7</td>\n",
       "      <td>158</td>\n",
       "      <td>True</td>\n",
       "      <td>False</td>\n",
       "      <td>False</td>\n",
       "      <td>False</td>\n",
       "      <td>False</td>\n",
       "      <td>True</td>\n",
       "      <td>False</td>\n",
       "    </tr>\n",
       "  </tbody>\n",
       "</table>\n",
       "</div>"
      ],
      "text/plain": [
       "    age  hypertension  heart_disease    bmi  HbA1c_level  blood_glucose_level  \\\n",
       "0  80.0             0              1  25.19          6.6                  140   \n",
       "1  54.0             0              0  27.32          6.6                   80   \n",
       "2  28.0             0              0  27.32          5.7                  158   \n",
       "\n",
       "   gender_1  gender_2  smoking_history_1  smoking_history_2  \\\n",
       "0     False     False              False              False   \n",
       "1     False     False              False              False   \n",
       "2      True     False              False              False   \n",
       "\n",
       "   smoking_history_3  smoking_history_4  smoking_history_5  \n",
       "0              False               True              False  \n",
       "1              False              False              False  \n",
       "2              False               True              False  "
      ]
     },
     "execution_count": 34,
     "metadata": {},
     "output_type": "execute_result"
    }
   ],
   "source": [
    "df[:3]"
   ]
  },
  {
   "cell_type": "code",
   "execution_count": 35,
   "id": "fbd96a21",
   "metadata": {
    "execution": {
     "iopub.execute_input": "2025-04-25T01:12:47.705538Z",
     "iopub.status.busy": "2025-04-25T01:12:47.705248Z",
     "iopub.status.idle": "2025-04-25T01:12:47.717536Z",
     "shell.execute_reply": "2025-04-25T01:12:47.716512Z"
    },
    "papermill": {
     "duration": 0.033892,
     "end_time": "2025-04-25T01:12:47.719154",
     "exception": false,
     "start_time": "2025-04-25T01:12:47.685262",
     "status": "completed"
    },
    "tags": []
   },
   "outputs": [
    {
     "name": "stdout",
     "output_type": "stream",
     "text": [
      "<class 'pandas.core.frame.DataFrame'>\n",
      "Index: 96146 entries, 0 to 99999\n",
      "Data columns (total 13 columns):\n",
      " #   Column               Non-Null Count  Dtype  \n",
      "---  ------               --------------  -----  \n",
      " 0   age                  96146 non-null  float64\n",
      " 1   hypertension         96146 non-null  int64  \n",
      " 2   heart_disease        96146 non-null  int64  \n",
      " 3   bmi                  96146 non-null  float64\n",
      " 4   HbA1c_level          96146 non-null  float64\n",
      " 5   blood_glucose_level  96146 non-null  int64  \n",
      " 6   gender_1             96146 non-null  bool   \n",
      " 7   gender_2             96146 non-null  bool   \n",
      " 8   smoking_history_1    96146 non-null  bool   \n",
      " 9   smoking_history_2    96146 non-null  bool   \n",
      " 10  smoking_history_3    96146 non-null  bool   \n",
      " 11  smoking_history_4    96146 non-null  bool   \n",
      " 12  smoking_history_5    96146 non-null  bool   \n",
      "dtypes: bool(7), float64(3), int64(3)\n",
      "memory usage: 5.8 MB\n"
     ]
    }
   ],
   "source": [
    "df.info()"
   ]
  },
  {
   "cell_type": "code",
   "execution_count": 36,
   "id": "22b30a71",
   "metadata": {
    "execution": {
     "iopub.execute_input": "2025-04-25T01:12:47.754826Z",
     "iopub.status.busy": "2025-04-25T01:12:47.754530Z",
     "iopub.status.idle": "2025-04-25T01:12:47.765655Z",
     "shell.execute_reply": "2025-04-25T01:12:47.764826Z"
    },
    "papermill": {
     "duration": 0.030788,
     "end_time": "2025-04-25T01:12:47.767129",
     "exception": false,
     "start_time": "2025-04-25T01:12:47.736341",
     "status": "completed"
    },
    "tags": []
   },
   "outputs": [
    {
     "data": {
      "text/plain": [
       "<bound method NDFrame.describe of         age  hypertension  heart_disease    bmi  HbA1c_level  \\\n",
       "0      80.0             0              1  25.19          6.6   \n",
       "1      54.0             0              0  27.32          6.6   \n",
       "2      28.0             0              0  27.32          5.7   \n",
       "3      36.0             0              0  23.45          5.0   \n",
       "4      76.0             1              1  20.14          4.8   \n",
       "...     ...           ...            ...    ...          ...   \n",
       "99994  36.0             0              0  24.60          4.8   \n",
       "99996   2.0             0              0  17.37          6.5   \n",
       "99997  66.0             0              0  27.83          5.7   \n",
       "99998  24.0             0              0  35.42          4.0   \n",
       "99999  57.0             0              0  22.43          6.6   \n",
       "\n",
       "       blood_glucose_level  gender_1  gender_2  smoking_history_1  \\\n",
       "0                      140     False     False              False   \n",
       "1                       80     False     False              False   \n",
       "2                      158      True     False              False   \n",
       "3                      155     False     False               True   \n",
       "4                      155      True     False               True   \n",
       "...                    ...       ...       ...                ...   \n",
       "99994                  145     False     False              False   \n",
       "99996                  100     False     False              False   \n",
       "99997                  155      True     False              False   \n",
       "99998                  100     False     False              False   \n",
       "99999                   90     False     False               True   \n",
       "\n",
       "       smoking_history_2  smoking_history_3  smoking_history_4  \\\n",
       "0                  False              False               True   \n",
       "1                  False              False              False   \n",
       "2                  False              False               True   \n",
       "3                  False              False              False   \n",
       "4                  False              False              False   \n",
       "...                  ...                ...                ...   \n",
       "99994              False              False              False   \n",
       "99996              False              False              False   \n",
       "99997              False               True              False   \n",
       "99998              False              False               True   \n",
       "99999              False              False              False   \n",
       "\n",
       "       smoking_history_5  \n",
       "0                  False  \n",
       "1                  False  \n",
       "2                  False  \n",
       "3                  False  \n",
       "4                  False  \n",
       "...                  ...  \n",
       "99994              False  \n",
       "99996              False  \n",
       "99997              False  \n",
       "99998              False  \n",
       "99999              False  \n",
       "\n",
       "[96146 rows x 13 columns]>"
      ]
     },
     "execution_count": 36,
     "metadata": {},
     "output_type": "execute_result"
    }
   ],
   "source": [
    "df.describe"
   ]
  },
  {
   "cell_type": "markdown",
   "id": "b1f6a43e",
   "metadata": {
    "papermill": {
     "duration": 0.017424,
     "end_time": "2025-04-25T01:12:47.802043",
     "exception": false,
     "start_time": "2025-04-25T01:12:47.784619",
     "status": "completed"
    },
    "tags": []
   },
   "source": [
    "# Model: GaussianNB"
   ]
  },
  {
   "cell_type": "code",
   "execution_count": 37,
   "id": "453e178e",
   "metadata": {
    "execution": {
     "iopub.execute_input": "2025-04-25T01:12:47.838103Z",
     "iopub.status.busy": "2025-04-25T01:12:47.837760Z",
     "iopub.status.idle": "2025-04-25T01:12:47.890140Z",
     "shell.execute_reply": "2025-04-25T01:12:47.889173Z"
    },
    "papermill": {
     "duration": 0.072158,
     "end_time": "2025-04-25T01:12:47.891591",
     "exception": false,
     "start_time": "2025-04-25T01:12:47.819433",
     "status": "completed"
    },
    "tags": []
   },
   "outputs": [
    {
     "data": {
      "text/html": [
       "<style>#sk-container-id-1 {color: black;background-color: white;}#sk-container-id-1 pre{padding: 0;}#sk-container-id-1 div.sk-toggleable {background-color: white;}#sk-container-id-1 label.sk-toggleable__label {cursor: pointer;display: block;width: 100%;margin-bottom: 0;padding: 0.3em;box-sizing: border-box;text-align: center;}#sk-container-id-1 label.sk-toggleable__label-arrow:before {content: \"▸\";float: left;margin-right: 0.25em;color: #696969;}#sk-container-id-1 label.sk-toggleable__label-arrow:hover:before {color: black;}#sk-container-id-1 div.sk-estimator:hover label.sk-toggleable__label-arrow:before {color: black;}#sk-container-id-1 div.sk-toggleable__content {max-height: 0;max-width: 0;overflow: hidden;text-align: left;background-color: #f0f8ff;}#sk-container-id-1 div.sk-toggleable__content pre {margin: 0.2em;color: black;border-radius: 0.25em;background-color: #f0f8ff;}#sk-container-id-1 input.sk-toggleable__control:checked~div.sk-toggleable__content {max-height: 200px;max-width: 100%;overflow: auto;}#sk-container-id-1 input.sk-toggleable__control:checked~label.sk-toggleable__label-arrow:before {content: \"▾\";}#sk-container-id-1 div.sk-estimator input.sk-toggleable__control:checked~label.sk-toggleable__label {background-color: #d4ebff;}#sk-container-id-1 div.sk-label input.sk-toggleable__control:checked~label.sk-toggleable__label {background-color: #d4ebff;}#sk-container-id-1 input.sk-hidden--visually {border: 0;clip: rect(1px 1px 1px 1px);clip: rect(1px, 1px, 1px, 1px);height: 1px;margin: -1px;overflow: hidden;padding: 0;position: absolute;width: 1px;}#sk-container-id-1 div.sk-estimator {font-family: monospace;background-color: #f0f8ff;border: 1px dotted black;border-radius: 0.25em;box-sizing: border-box;margin-bottom: 0.5em;}#sk-container-id-1 div.sk-estimator:hover {background-color: #d4ebff;}#sk-container-id-1 div.sk-parallel-item::after {content: \"\";width: 100%;border-bottom: 1px solid gray;flex-grow: 1;}#sk-container-id-1 div.sk-label:hover label.sk-toggleable__label {background-color: #d4ebff;}#sk-container-id-1 div.sk-serial::before {content: \"\";position: absolute;border-left: 1px solid gray;box-sizing: border-box;top: 0;bottom: 0;left: 50%;z-index: 0;}#sk-container-id-1 div.sk-serial {display: flex;flex-direction: column;align-items: center;background-color: white;padding-right: 0.2em;padding-left: 0.2em;position: relative;}#sk-container-id-1 div.sk-item {position: relative;z-index: 1;}#sk-container-id-1 div.sk-parallel {display: flex;align-items: stretch;justify-content: center;background-color: white;position: relative;}#sk-container-id-1 div.sk-item::before, #sk-container-id-1 div.sk-parallel-item::before {content: \"\";position: absolute;border-left: 1px solid gray;box-sizing: border-box;top: 0;bottom: 0;left: 50%;z-index: -1;}#sk-container-id-1 div.sk-parallel-item {display: flex;flex-direction: column;z-index: 1;position: relative;background-color: white;}#sk-container-id-1 div.sk-parallel-item:first-child::after {align-self: flex-end;width: 50%;}#sk-container-id-1 div.sk-parallel-item:last-child::after {align-self: flex-start;width: 50%;}#sk-container-id-1 div.sk-parallel-item:only-child::after {width: 0;}#sk-container-id-1 div.sk-dashed-wrapped {border: 1px dashed gray;margin: 0 0.4em 0.5em 0.4em;box-sizing: border-box;padding-bottom: 0.4em;background-color: white;}#sk-container-id-1 div.sk-label label {font-family: monospace;font-weight: bold;display: inline-block;line-height: 1.2em;}#sk-container-id-1 div.sk-label-container {text-align: center;}#sk-container-id-1 div.sk-container {/* jupyter's `normalize.less` sets `[hidden] { display: none; }` but bootstrap.min.css set `[hidden] { display: none !important; }` so we also need the `!important` here to be able to override the default hidden behavior on the sphinx rendered scikit-learn.org. See: https://github.com/scikit-learn/scikit-learn/issues/21755 */display: inline-block !important;position: relative;}#sk-container-id-1 div.sk-text-repr-fallback {display: none;}</style><div id=\"sk-container-id-1\" class=\"sk-top-container\"><div class=\"sk-text-repr-fallback\"><pre>GaussianNB()</pre><b>In a Jupyter environment, please rerun this cell to show the HTML representation or trust the notebook. <br />On GitHub, the HTML representation is unable to render, please try loading this page with nbviewer.org.</b></div><div class=\"sk-container\" hidden><div class=\"sk-item\"><div class=\"sk-estimator sk-toggleable\"><input class=\"sk-toggleable__control sk-hidden--visually\" id=\"sk-estimator-id-1\" type=\"checkbox\" checked><label for=\"sk-estimator-id-1\" class=\"sk-toggleable__label sk-toggleable__label-arrow\">GaussianNB</label><div class=\"sk-toggleable__content\"><pre>GaussianNB()</pre></div></div></div></div></div>"
      ],
      "text/plain": [
       "GaussianNB()"
      ]
     },
     "execution_count": 37,
     "metadata": {},
     "output_type": "execute_result"
    }
   ],
   "source": [
    "#splitting data 60 40 ratio\n",
    "X_train, X_test, y_train, y_test = train_test_split(X, y, test_size=0.4, random_state=42)\n",
    "\n",
    "model_Naive_Bayes = GaussianNB()\n",
    "model_Naive_Bayes.fit(X_train, y_train)\n",
    "\n",
    "\n",
    "\n",
    "\n"
   ]
  },
  {
   "cell_type": "code",
   "execution_count": 38,
   "id": "5ddfadce",
   "metadata": {
    "execution": {
     "iopub.execute_input": "2025-04-25T01:12:47.928859Z",
     "iopub.status.busy": "2025-04-25T01:12:47.928577Z",
     "iopub.status.idle": "2025-04-25T01:12:48.016189Z",
     "shell.execute_reply": "2025-04-25T01:12:48.015038Z"
    },
    "papermill": {
     "duration": 0.107632,
     "end_time": "2025-04-25T01:12:48.017690",
     "exception": false,
     "start_time": "2025-04-25T01:12:47.910058",
     "status": "completed"
    },
    "tags": []
   },
   "outputs": [
    {
     "name": "stdout",
     "output_type": "stream",
     "text": [
      "Accuracy: 0.8995\n",
      "Classification Report:\n",
      "               precision    recall  f1-score   support\n",
      "\n",
      "           0       0.96      0.93      0.94     35034\n",
      "           1       0.45      0.64      0.53      3425\n",
      "\n",
      "    accuracy                           0.90     38459\n",
      "   macro avg       0.71      0.78      0.74     38459\n",
      "weighted avg       0.92      0.90      0.91     38459\n",
      "\n",
      "Confusion Matrix:\n",
      " [[32412  2622]\n",
      " [ 1243  2182]]\n"
     ]
    }
   ],
   "source": [
    "#Make Predictions\n",
    "y_pred = model_Naive_Bayes.predict(X_test)\n",
    "\n",
    "accuracy = accuracy_score(y_test, y_pred)\n",
    "report = classification_report(y_test, y_pred)\n",
    "matrix = confusion_matrix(y_test, y_pred)\n",
    "\n",
    "print(f'Accuracy: {accuracy:.4f}')\n",
    "print('Classification Report:\\n', report)\n",
    "print('Confusion Matrix:\\n', matrix)"
   ]
  },
  {
   "cell_type": "markdown",
   "id": "d7403786",
   "metadata": {
    "papermill": {
     "duration": 0.017286,
     "end_time": "2025-04-25T01:12:48.053088",
     "exception": false,
     "start_time": "2025-04-25T01:12:48.035802",
     "status": "completed"
    },
    "tags": []
   },
   "source": [
    "Confusion Matrix Based on \"Naive Bayes Classifiers\" :\n",
    "\n",
    "                  Predicted Negative    Predicted Positive\n",
    "Actual Negative      TN = 32412             FP = 2622\n",
    "Actual Positive      FN = 1243              TP = 2182"
   ]
  },
  {
   "cell_type": "markdown",
   "id": "8d21d05b",
   "metadata": {
    "papermill": {
     "duration": 0.018342,
     "end_time": "2025-04-25T01:12:48.089037",
     "exception": false,
     "start_time": "2025-04-25T01:12:48.070695",
     "status": "completed"
    },
    "tags": []
   },
   "source": [
    "# Model named as \"model_Naive_Bayes\" save/download using pickle"
   ]
  },
  {
   "cell_type": "code",
   "execution_count": 39,
   "id": "e06449da",
   "metadata": {
    "execution": {
     "iopub.execute_input": "2025-04-25T01:12:48.125297Z",
     "iopub.status.busy": "2025-04-25T01:12:48.124990Z",
     "iopub.status.idle": "2025-04-25T01:12:48.130238Z",
     "shell.execute_reply": "2025-04-25T01:12:48.129298Z"
    },
    "papermill": {
     "duration": 0.025146,
     "end_time": "2025-04-25T01:12:48.131678",
     "exception": false,
     "start_time": "2025-04-25T01:12:48.106532",
     "status": "completed"
    },
    "tags": []
   },
   "outputs": [],
   "source": [
    "import pickle\n",
    "\n",
    "# Save the model\n",
    "with open('Diabetes_model.pkl', 'wb') as f:\n",
    "    pickle.dump(model_Naive_Bayes, f)"
   ]
  },
  {
   "cell_type": "code",
   "execution_count": 40,
   "id": "1d848b95",
   "metadata": {
    "execution": {
     "iopub.execute_input": "2025-04-25T01:12:48.169979Z",
     "iopub.status.busy": "2025-04-25T01:12:48.169245Z",
     "iopub.status.idle": "2025-04-25T01:12:48.174255Z",
     "shell.execute_reply": "2025-04-25T01:12:48.173257Z"
    },
    "papermill": {
     "duration": 0.025987,
     "end_time": "2025-04-25T01:12:48.175516",
     "exception": false,
     "start_time": "2025-04-25T01:12:48.149529",
     "status": "completed"
    },
    "tags": []
   },
   "outputs": [
    {
     "name": "stdout",
     "output_type": "stream",
     "text": [
      "['scaler.pkl', '__notebook__.ipynb', 'Diabetes_model.pkl', 'pca.pkl']\n"
     ]
    }
   ],
   "source": [
    "import os\n",
    "print(os.listdir('.'))"
   ]
  },
  {
   "cell_type": "markdown",
   "id": "434870fd",
   "metadata": {
    "papermill": {
     "duration": 0.019004,
     "end_time": "2025-04-25T01:12:48.214421",
     "exception": false,
     "start_time": "2025-04-25T01:12:48.195417",
     "status": "completed"
    },
    "tags": []
   },
   "source": [
    "# Visualize: Confusion Matrix "
   ]
  },
  {
   "cell_type": "code",
   "execution_count": 41,
   "id": "19975565",
   "metadata": {
    "execution": {
     "iopub.execute_input": "2025-04-25T01:12:48.254654Z",
     "iopub.status.busy": "2025-04-25T01:12:48.254347Z",
     "iopub.status.idle": "2025-04-25T01:12:48.436490Z",
     "shell.execute_reply": "2025-04-25T01:12:48.435721Z"
    },
    "papermill": {
     "duration": 0.203342,
     "end_time": "2025-04-25T01:12:48.437932",
     "exception": false,
     "start_time": "2025-04-25T01:12:48.234590",
     "status": "completed"
    },
    "tags": []
   },
   "outputs": [
    {
     "data": {
      "image/png": "[encoded data removed]",
      "text/plain": [
       "<Figure size 500x400 with 2 Axes>"
      ]
     },
     "metadata": {},
     "output_type": "display_data"
    }
   ],
   "source": [
    "# Compute the confusion matrix\n",
    "conf_matrix = confusion_matrix(y_test, y_pred)\n",
    "\n",
    "# Plotting the confusion matrix\n",
    "plt.figure(figsize=(5,4))\n",
    "sns.heatmap(conf_matrix, annot=True, fmt='d', cmap='Blues', xticklabels=['No Diabetes', 'Diabetes'], yticklabels=['No Diabetes', 'Diabetes'])\n",
    "plt.title('Confusion Matrix')\n",
    "plt.xlabel('Predicted')\n",
    "plt.ylabel('Actual')\n",
    "plt.show()"
   ]
  },
  {
   "cell_type": "markdown",
   "id": "7475da49",
   "metadata": {
    "papermill": {
     "duration": 0.018429,
     "end_time": "2025-04-25T01:12:48.475677",
     "exception": false,
     "start_time": "2025-04-25T01:12:48.457248",
     "status": "completed"
    },
    "tags": []
   },
   "source": [
    "# Model Prediction Using Raw Data \n"
   ]
  },
  {
   "cell_type": "code",
   "execution_count": 42,
   "id": "edc264a6",
   "metadata": {
    "execution": {
     "iopub.execute_input": "2025-04-25T01:12:48.513997Z",
     "iopub.status.busy": "2025-04-25T01:12:48.513692Z",
     "iopub.status.idle": "2025-04-25T01:12:48.545714Z",
     "shell.execute_reply": "2025-04-25T01:12:48.544622Z"
    },
    "papermill": {
     "duration": 0.053403,
     "end_time": "2025-04-25T01:12:48.547378",
     "exception": false,
     "start_time": "2025-04-25T01:12:48.493975",
     "status": "completed"
    },
    "tags": []
   },
   "outputs": [
    {
     "name": "stdout",
     "output_type": "stream",
     "text": [
      "Patient 1 is predicted to have diabetes.\n",
      "Patient 2 is predicted to have diabetes.\n",
      "Patient 3 is predicted to have diabetes.\n",
      "Patient 4 is predicted to have diabetes.\n",
      "Patient 5 is predicted to have diabetes.\n",
      "Patient 6 is predicted to have diabetes.\n",
      "Patient 7 is not predicted to have diabetes.\n",
      "Patient 8 is predicted to have diabetes.\n",
      "Patient 9 is predicted to have diabetes.\n",
      "Patient 10 is not predicted to have diabetes.\n",
      "\n",
      "Custom Data:\n",
      "    age  hypertension  heart_disease  smoking_history   bmi  HbA1c_level  \\\n",
      "0  60.8             0              1           smokes  20.6          8.4   \n",
      "1  57.6             0              0            never  20.5          7.0   \n",
      "2  66.0             1              0          no info  29.7          8.9   \n",
      "3  64.8             1              1           smokes  20.4          8.6   \n",
      "4  43.5             1              1      not current  21.6          4.3   \n",
      "5  83.2             1              0      not current  22.3          7.8   \n",
      "6  65.2             0              0  formerly smoked  39.6          9.1   \n",
      "7  36.6             1              0  formerly smoked  23.9          8.0   \n",
      "8  58.8             0              0           smokes  26.6          5.6   \n",
      "9  63.9             0              0            never  35.1          6.4   \n",
      "\n",
      "   blood_glucose_level  gender  \n",
      "0                  243    Male  \n",
      "1                   76    Male  \n",
      "2                   71    Male  \n",
      "3                   96    Male  \n",
      "4                  187    Male  \n",
      "5                  162    Male  \n",
      "6                   95  Female  \n",
      "7                  249    Male  \n",
      "8                  233    Male  \n",
      "9                   86    Male  \n",
      "\n",
      "Predictions:\n",
      "Patient 1: Diabetes\n",
      "Patient 2: Diabetes\n",
      "Patient 3: Diabetes\n",
      "Patient 4: Diabetes\n",
      "Patient 5: Diabetes\n",
      "Patient 6: Diabetes\n",
      "Patient 7: No Diabetes\n",
      "Patient 8: Diabetes\n",
      "Patient 9: Diabetes\n",
      "Patient 10: No Diabetes\n"
     ]
    },
    {
     "name": "stderr",
     "output_type": "stream",
     "text": [
      "/usr/local/lib/python3.11/dist-packages/sklearn/base.py:439: UserWarning: X does not have valid feature names, but GaussianNB was fitted with feature names\n",
      "  warnings.warn(\n"
     ]
    }
   ],
   "source": [
    "# Features: original form\n",
    "features_original = ['age', 'hypertension', 'heart_disease', 'smoking_history', 'bmi', 'HbA1c_level', 'blood_glucose_level', 'gender']\n",
    "\n",
    "# 10 random custom data entries with original features\n",
    "smoking_histories = ['never', 'smokes', 'formerly smoked', 'no info', 'not current']\n",
    "genders = ['Male', 'Female']\n",
    "random.seed(42)  # for reproducibility\n",
    "\n",
    "raw_custom_data = []\n",
    "for _ in range(10):\n",
    "    age = round(random.uniform(18, 85), 1)\n",
    "    hypertension = random.randint(0, 1)\n",
    "    heart_disease = random.randint(0, 1)\n",
    "    smoking_history = random.choice(smoking_histories)\n",
    "    bmi = round(random.uniform(15, 40), 1)\n",
    "    hba1c = round(random.uniform(4.0, 10.0), 1)\n",
    "    glucose = random.randint(70, 250)\n",
    "    gender = random.choice(genders)\n",
    "    \n",
    "    raw_custom_data.append([age, hypertension, heart_disease, smoking_history, bmi, hba1c, glucose, gender])\n",
    "    custom_df_original = pd.DataFrame(raw_custom_data, columns=features_original)\n",
    "\n",
    "# One-Hot Encode the custom data\n",
    "custom_df_encoded = pd.get_dummies(custom_df_original, columns=['gender', 'smoking_history'], drop_first=True)\n",
    "\n",
    "# Ensure the order of columns matches the training data (after encoding)\n",
    "# Get the feature names that the scaler was fitted on\n",
    "expected_columns = [col for col in scaler.feature_names_in_ if col != 'diabetes'] # Exclude the target if it was in there\n",
    "\n",
    "# Add any missing columns with 0 and reorder\n",
    "for col in expected_columns:\n",
    "    if col not in custom_df_encoded.columns:\n",
    "        custom_df_encoded[col] = 0\n",
    "custom_df_encoded = custom_df_encoded[expected_columns]\n",
    "\n",
    "# 3. Standardize the custom data using the *fitted* scaler\n",
    "custom_X_scaled = scaler.transform(custom_df_encoded)\n",
    "\n",
    "# 4. Apply PCA transformation using the *fitted* PCA\n",
    "custom_X_pca = pca.transform(custom_X_scaled)\n",
    "\n",
    "# 5. Make predictions\n",
    "custom_predictions = model_Naive_Bayes.predict(custom_X_pca)\n",
    "\n",
    "# 6. Print predictions\n",
    "for i, pred in enumerate(custom_predictions):\n",
    "    if pred == 0:\n",
    "        print(f\"Patient {i+1} is not predicted to have diabetes.\")\n",
    "    else:\n",
    "        print(f\"Patient {i+1} is predicted to have diabetes.\")\n",
    "\n",
    "print(\"\\nCustom Data:\")\n",
    "print(custom_df_original)\n",
    "print(\"\\nPredictions:\")\n",
    "for i, pred in enumerate(custom_predictions):\n",
    "    print(f\"Patient {i+1}: {'Diabetes' if pred == 1 else 'No Diabetes'}\")"
   ]
  },
  {
   "cell_type": "markdown",
   "id": "3cddb00c",
   "metadata": {
    "papermill": {
     "duration": 0.019588,
     "end_time": "2025-04-25T01:12:48.585373",
     "exception": false,
     "start_time": "2025-04-25T01:12:48.565785",
     "status": "completed"
    },
    "tags": []
   },
   "source": [
    "# Ending Notes:\n",
    "--------------------------------------------------------------------------\n",
    "\n",
    "* This project employs the \"Naive Bayes Algorithm,\" a classification technique, to predict whether a user is diabetic (\"Yes\") or not (\"No\") based on their provided input data.\n",
    "* Managing diabetes involves a combination of healthy lifestyle choices and, in some cases, medication. Key strategies include a balanced diet, regular physical activity, and, if needed, weight management.\n",
    "\n",
    "**BMI Range:**\n",
    "Underweight: BMI below 18.5.\n",
    "Healthy weight: BMI between 18.5 and 24.9.\n",
    "Overweight: BMI between 25 and 29.9.\n",
    "Obesity: BMI of 30 or higher, with further classifications into Class 1, Class 2, and Class 3 depending on the specific BMI range.\n",
    "\n",
    "**HbA1c Range Values:**\n",
    "Normal: Below 5.7%.\n",
    "Prediabetes: Between 5.7% and 6.4%.\n",
    "Diabetes: 6.5% or higher.\n",
    "\n",
    "\n",
    "**Blood Glucose Levels:**\n",
    "\n",
    "\n",
    "For non-diabetic adults, a normal HbA1c level is below 5.7%. A level between 5.7% and 6.4% indicates prediabetes, while 6.5% or higher suggests diabetes. \n",
    "\n",
    "Fasting (before eating):\n",
    "Normal: 70 to 99 mg/dL\n",
    "Prediabetes: 100 to 125 mg/dL\n",
    "Diabetes: 126 mg/dL or higher on two separate tests \n",
    "Random (anytime, without regard to food intake):\n",
    "Normal: Less than 125 mg/dL\n",
    "Diabetes: 200 mg/dL or higher \n",
    "Two hours after eating:\n",
    "Normal: Less than 140 mg/dL for adults without diabetes \n",
    "Prediabetes/Diabetes: 140 to 199 mg/dL or higher, depending on the individual's target levels \n",
    "Important Notes:\n",
    "Hypoglycemia: Low blood sugar (below 70 mg/dL) can be dangerous. \n",
    "Critical values: Some labs have critical values for extremely low (e.g., below 40 mg/dL) or high (e.g., above 400 mg/dL) blood glucose levels. \n",
    "Individualized goals: People with diabetes or prediabetes may have individual target blood sugar goals set by their healthcare provider. \n",
    "\n",
    "**Hypertension:**\n",
    "\n",
    "Normal:\n",
    "Systolic pressure below 120 mmHg AND Diastolic pressure below 80 mmHg. \n",
    "Elevated:\n",
    "Systolic pressure between 120 and 129 mmHg AND Diastolic pressure less than 80 mmHg. \n",
    "Stage 1 Hypertension:\n",
    "Systolic pressure between 130 and 139 mmHg OR Diastolic pressure between 80 and 89 mmHg. \n",
    "Stage 2 Hypertension:\n",
    "Systolic pressure 140 or higher mmHg OR Diastolic pressure 90 or higher mmHg. \n",
    "Hypertensive Crisis:\n",
    "Systolic pressure 180 or higher mmHg OR Diastolic pressure 120 or higher mmHg. \n",
    "\n",
    "\n",
    "* By analyzing some common health parameters, this project aims to predict the likelihood of a user developing diabetes.\n",
    "\n",
    "\n",
    "\n",
    "\n",
    "--------------------------------------------------------------------------"
   ]
  },
  {
   "cell_type": "markdown",
   "id": "6b771d38",
   "metadata": {
    "papermill": {
     "duration": 0.018601,
     "end_time": "2025-04-25T01:12:48.622111",
     "exception": false,
     "start_time": "2025-04-25T01:12:48.603510",
     "status": "completed"
    },
    "tags": []
   },
   "source": [
    "# Deployment At \"render.com\"\n",
    "\n",
    "https://ai-classifier-project-diabetes-risk.onrender.com\n"
   ]
  }
 ],
 "metadata": {
  "kaggle": {
   "accelerator": "none",
   "dataSources": [
    {
     "datasetId": 7213848,
     "sourceId": 11505532,
     "sourceType": "datasetVersion"
    }
   ],
   "dockerImageVersionId": 31012,
   "isGpuEnabled": false,
   "isInternetEnabled": true,
   "language": "python",
   "sourceType": "notebook"
  },
  "kernelspec": {
   "display_name": "Python 3",
   "language": "python",
   "name": "python3"
  },
  "language_info": {
   "codemirror_mode": {
    "name": "ipython",
    "version": 3
   },
   "file_extension": ".py",
   "mimetype": "text/x-python",
   "name": "python",
   "nbconvert_exporter": "python",
   "pygments_lexer": "ipython3",
   "version": "3.11.11"
  },
  "papermill": {
   "default_parameters": {},
   "duration": 16.239969,
   "end_time": "2025-04-25T01:12:49.360440",
   "environment_variables": {},
   "exception": null,
   "input_path": "__notebook__.ipynb",
   "output_path": "__notebook__.ipynb",
   "parameters": {},
   "start_time": "2025-04-25T01:12:33.120471",
   "version": "2.6.0"
  }
 },
 "nbformat": 4,
 "nbformat_minor": 5
}
